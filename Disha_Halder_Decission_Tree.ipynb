{
  "nbformat": 4,
  "nbformat_minor": 0,
  "metadata": {
    "colab": {
      "provenance": [],
      "authorship_tag": "ABX9TyMFzxIH1wmRemPFyx5MJCot",
      "include_colab_link": true
    },
    "kernelspec": {
      "name": "python3",
      "display_name": "Python 3"
    },
    "language_info": {
      "name": "python"
    }
  },
  "cells": [
    {
      "cell_type": "markdown",
      "metadata": {
        "id": "view-in-github",
        "colab_type": "text"
      },
      "source": [
        "<a href=\"https://colab.research.google.com/github/DISHA2608129/DISHAAAA/blob/main/Disha_Halder_Decission_Tree.ipynb\" target=\"_parent\"><img src=\"https://colab.research.google.com/assets/colab-badge.svg\" alt=\"Open In Colab\"/></a>"
      ]
    },
    {
      "cell_type": "markdown",
      "source": [
        "1. What is a Decision Tree, and how does it work?"
      ],
      "metadata": {
        "id": "2Lv3BM1yAeF0"
      }
    },
    {
      "cell_type": "markdown",
      "source": [
        "A Decision Tree is a popular machine learning algorithm used for both classification and regression tasks. It works by recursively splitting the data into subsets based on feature values, ultimately making predictions based on these splits. The structure of a decision tree is similar to a flowchart, where each node represents a decision (based on a feature), and each branch represents the outcome of that decision.\n",
        "\n",
        "How a Decision Tree Works:\n",
        "Root Node:\n",
        "\n",
        "The tree starts with a root node which represents the entire dataset. The algorithm selects the best feature (based on a criterion) to split the data into subsets.\n",
        "\n",
        "Splitting:\n",
        "\n",
        "The root node is split into branches based on the values of a feature. Each branch corresponds to a possible value or range of values for that feature.\n",
        "\n",
        "This process is recursively applied at each subsequent node (i.e., split) until one of the stopping criteria is met (e.g., maximum depth, minimum samples per leaf, or purity of the node).\n",
        "\n",
        "Leaf Nodes:\n",
        "\n",
        "Once the data cannot be split further (based on the stopping criteria), the final nodes are called leaf nodes. These nodes provide the final decision or prediction.\n",
        "\n",
        "For classification, the leaf node will assign the most frequent class in that subset of data.\n",
        "\n",
        "For regression, the leaf node will provide the mean or median of the target variable in that subset of data.\n",
        "\n",
        "Decision Making:\n",
        "\n",
        "To make a prediction for new, unseen data, the decision tree uses the values of the input features to follow the path from the root to the appropriate leaf node. The output is the prediction in the leaf node."
      ],
      "metadata": {
        "id": "ZCnplj6MAjfi"
      }
    },
    {
      "cell_type": "markdown",
      "source": [
        "2. What are impurity measures in Decision Trees?"
      ],
      "metadata": {
        "id": "na7ECCwbAkDL"
      }
    },
    {
      "cell_type": "markdown",
      "source": [
        "In Decision Trees, impurity measures are metrics used to evaluate how well a dataset is split at each node. The goal is to minimize the impurity of the data at each node, ensuring that the splits lead to more homogenous groups, ultimately resulting in more accurate predictions. Two commonly used impurity measures are Gini Impurity and Entropy (used for classification tasks), and Variance Reduction (used for regression tasks).\n",
        "\n",
        "Gini Impurity: This is a measure of how often a randomly selected element would be incorrectly classified if it were randomly labeled according to the distribution of labels in the node. A Gini Impurity of 0 means that all elements in the node belong to a single class, while a Gini Impurity of 0.5 indicates an equal distribution of elements across different classes. The Decision Tree algorithm aims to minimize Gini Impurity by selecting splits that result in the lowest possible impurity.\n",
        "\n",
        "Entropy (Information Gain): Entropy is a measure of disorder or uncertainty in the data. A node with low entropy means the data is more homogenous, and a node with high entropy indicates more mixed classes. Information Gain is the reduction in entropy achieved by a split. The Decision Tree algorithm uses Information Gain to choose splits that result in the greatest reduction in entropy, leading to more predictable nodes.\n",
        "\n",
        "Variance Reduction (for Regression Trees): In regression trees, the impurity is typically measured by the variance of the target variable within the node. A node with low variance means that the target variable values are close to each other, and a node with high variance indicates that the target variable values are spread out. The algorithm aims to minimize the variance within each split, which improves the model's predictive accuracy."
      ],
      "metadata": {
        "id": "0t9XQcR7Aoum"
      }
    },
    {
      "cell_type": "markdown",
      "source": [
        "3. What is the mathematical formula for Gini Impurity?"
      ],
      "metadata": {
        "id": "l786pscxArIN"
      }
    },
    {
      "cell_type": "markdown",
      "source": [
        "The mathematical formula for Gini Impurity is given by:\n",
        "\n",
        "𝐺\n",
        "𝑖\n",
        "𝑛\n",
        "𝑖\n",
        "(\n",
        "𝐷\n",
        ")\n",
        "=\n",
        "1\n",
        "−\n",
        "∑\n",
        "𝑖\n",
        "=\n",
        "1\n",
        "𝐶\n",
        "𝑝\n",
        "𝑖\n",
        "2\n",
        "Gini(D)=1−\n",
        "i=1\n",
        "∑\n",
        "C\n",
        "​\n",
        " p\n",
        "i\n",
        "2\n",
        "​\n",
        "\n",
        "Where:\n",
        "\n",
        "𝐷\n",
        "D is the dataset or node.\n",
        "\n",
        "𝐶\n",
        "C is the number of unique classes in the target variable.\n",
        "\n",
        "𝑝\n",
        "𝑖\n",
        "p\n",
        "i\n",
        "​\n",
        "  is the proportion of instances in class\n",
        "𝑖\n",
        "i in the node.\n",
        "\n",
        "Explanation:\n",
        "𝑝\n",
        "𝑖\n",
        "p\n",
        "i\n",
        "​\n",
        "  is the probability (or relative frequency) of a sample being classified into class\n",
        "𝑖\n",
        "i.\n",
        "\n",
        "The Gini Impurity score ranges from 0 to 1:\n",
        "\n",
        "A Gini Impurity of 0 means that all elements in the node belong to a single class (i.e., perfect purity).\n",
        "\n",
        "A Gini Impurity of 1 would indicate that the classes are evenly distributed across the node (i.e., maximum impurity)."
      ],
      "metadata": {
        "id": "FwlSAzg4Aw-Q"
      }
    },
    {
      "cell_type": "markdown",
      "source": [
        "4. What is the mathematical formula for Entropy?"
      ],
      "metadata": {
        "id": "JOyG-zA0Axe2"
      }
    },
    {
      "cell_type": "markdown",
      "source": [
        "The mathematical formula for Entropy is given by:\n",
        "\n",
        "𝐸\n",
        "𝑛\n",
        "𝑡\n",
        "𝑟\n",
        "𝑜\n",
        "𝑝\n",
        "𝑦\n",
        "(\n",
        "𝐷\n",
        ")\n",
        "=\n",
        "−\n",
        "∑\n",
        "𝑖\n",
        "=\n",
        "1\n",
        "𝐶\n",
        "𝑝\n",
        "𝑖\n",
        "log\n",
        "⁡\n",
        "2\n",
        "(\n",
        "𝑝\n",
        "𝑖\n",
        ")\n",
        "Entropy(D)=−\n",
        "i=1\n",
        "∑\n",
        "C\n",
        "​\n",
        " p\n",
        "i\n",
        "​\n",
        " log\n",
        "2\n",
        "​\n",
        " (p\n",
        "i\n",
        "​\n",
        " )\n",
        "Where:\n",
        "\n",
        "𝐷\n",
        "D is the dataset or node.\n",
        "\n",
        "𝐶\n",
        "C is the number of unique classes in the target variable.\n",
        "\n",
        "𝑝\n",
        "𝑖\n",
        "p\n",
        "i\n",
        "​\n",
        "  is the proportion of instances in class\n",
        "𝑖\n",
        "i in the node.\n",
        "\n",
        "Explanation:\n",
        "𝑝\n",
        "𝑖\n",
        "p\n",
        "i\n",
        "​\n",
        "  is the probability (or relative frequency) of a sample being classified into class\n",
        "𝑖\n",
        "i.\n",
        "\n",
        "The logarithm is base 2 because entropy is often measured in bits (as it is related to information theory).\n",
        "\n",
        "Entropy measures the uncertainty or impurity in a dataset. Higher entropy indicates greater uncertainty or disorder, while lower entropy indicates more certainty or purity."
      ],
      "metadata": {
        "id": "EcEs5xVFA4iT"
      }
    },
    {
      "cell_type": "markdown",
      "source": [
        "5. What is Information Gain, and how is it used in Decision Trees\t?"
      ],
      "metadata": {
        "id": "yD31M7xmA7J_"
      }
    },
    {
      "cell_type": "markdown",
      "source": [
        "Information Gain (IG) is a metric used to measure the effectiveness of a feature in classifying a dataset. It quantifies the reduction in uncertainty or entropy after a dataset is split based on a particular feature. In the context of Decision Trees, Information Gain is used to determine the best feature to split the data at each node in the tree-building process.\n",
        "\n",
        "Formula for Information Gain:\n",
        "Information Gain is calculated as the difference between the entropy of the original dataset and the weighted average entropy of the dataset after it is split into subsets based on a specific feature.\n",
        "\n",
        "Information Gain\n",
        "(\n",
        "𝐷\n",
        ",\n",
        "𝐴\n",
        ")\n",
        "=\n",
        "Entropy\n",
        "(\n",
        "𝐷\n",
        ")\n",
        "−\n",
        "∑\n",
        "𝑣\n",
        "∈\n",
        "𝑉\n",
        "𝑎\n",
        "𝑙\n",
        "𝑢\n",
        "𝑒\n",
        "𝑠\n",
        "(\n",
        "𝐴\n",
        ")\n",
        "∣\n",
        "𝐷\n",
        "𝑣\n",
        "∣\n",
        "∣\n",
        "𝐷\n",
        "∣\n",
        "×\n",
        "Entropy\n",
        "(\n",
        "𝐷\n",
        "𝑣\n",
        ")\n",
        "Information Gain(D,A)=Entropy(D)−\n",
        "v∈Values(A)\n",
        "∑\n",
        "​\n",
        "  \n",
        "∣D∣\n",
        "∣D\n",
        "v\n",
        "​\n",
        " ∣\n",
        "​\n",
        " ×Entropy(D\n",
        "v\n",
        "​\n",
        " )\n",
        "Where:\n",
        "\n",
        "𝐷\n",
        "D is the dataset.\n",
        "\n",
        "𝐴\n",
        "A is the feature used for splitting the data.\n",
        "\n",
        "Entropy\n",
        "(\n",
        "𝐷\n",
        ")\n",
        "Entropy(D) is the entropy of the entire dataset before splitting.\n",
        "\n",
        "Entropy\n",
        "(\n",
        "𝐷\n",
        "𝑣\n",
        ")\n",
        "Entropy(D\n",
        "v\n",
        "​\n",
        " ) is the entropy of the subset\n",
        "𝐷\n",
        "𝑣\n",
        "D\n",
        "v\n",
        "​\n",
        "  that corresponds to the values\n",
        "𝑣\n",
        "v of feature\n",
        "𝐴\n",
        "A.\n",
        "\n",
        "∣\n",
        "𝐷\n",
        "𝑣\n",
        "∣\n",
        "∣\n",
        "𝐷\n",
        "∣\n",
        "∣D∣\n",
        "∣D\n",
        "v\n",
        "​\n",
        " ∣\n",
        "​\n",
        "  is the weight of subset\n",
        "𝐷\n",
        "𝑣\n",
        "D\n",
        "v\n",
        "​\n",
        " , which is the fraction of samples in subset\n",
        "𝐷\n",
        "𝑣\n",
        "D\n",
        "v\n",
        "​\n",
        "  relative to the total number of samples in\n",
        "𝐷\n",
        "D."
      ],
      "metadata": {
        "id": "Ub-Em0GyBA4G"
      }
    },
    {
      "cell_type": "markdown",
      "source": [
        "6. What is the difference between Gini Impurity and Entropy\t?"
      ],
      "metadata": {
        "id": "_crUdb7RBBhy"
      }
    },
    {
      "cell_type": "markdown",
      "source": [
        "The Gini Impurity and Entropy are both impurity measures used in Decision Trees for classification tasks, helping to evaluate the quality of a split. While they serve the same purpose (measuring how mixed the classes are in a dataset), they are calculated differently and may lead to slightly different splits in some cases. Here's a comparison between the two:\n",
        "\n",
        "1. Mathematical Formula:\n",
        "Gini Impurity:\n",
        "\n",
        "𝐺\n",
        "𝑖\n",
        "𝑛\n",
        "𝑖\n",
        "(\n",
        "𝐷\n",
        ")\n",
        "=\n",
        "1\n",
        "−\n",
        "∑\n",
        "𝑖\n",
        "=\n",
        "1\n",
        "𝐶\n",
        "𝑝\n",
        "𝑖\n",
        "2\n",
        "Gini(D)=1−\n",
        "i=1\n",
        "∑\n",
        "C\n",
        "​\n",
        " p\n",
        "i\n",
        "2\n",
        "​\n",
        "\n",
        "Where:\n",
        "\n",
        "𝐶\n",
        "C is the number of classes in the target variable.\n",
        "\n",
        "𝑝\n",
        "𝑖\n",
        "p\n",
        "i\n",
        "​\n",
        "  is the proportion of samples belonging to class\n",
        "𝑖\n",
        "i in the node.\n",
        "\n",
        "Entropy:\n",
        "\n",
        "𝐸\n",
        "𝑛\n",
        "𝑡\n",
        "𝑟\n",
        "𝑜\n",
        "𝑝\n",
        "𝑦\n",
        "(\n",
        "𝐷\n",
        ")\n",
        "=\n",
        "−\n",
        "∑\n",
        "𝑖\n",
        "=\n",
        "1\n",
        "𝐶\n",
        "𝑝\n",
        "𝑖\n",
        "log\n",
        "⁡\n",
        "2\n",
        "(\n",
        "𝑝\n",
        "𝑖\n",
        ")\n",
        "Entropy(D)=−\n",
        "i=1\n",
        "∑\n",
        "C\n",
        "​\n",
        " p\n",
        "i\n",
        "​\n",
        " log\n",
        "2\n",
        "​\n",
        " (p\n",
        "i\n",
        "​\n",
        " )\n",
        "Where:\n",
        "\n",
        "𝐶\n",
        "C is the number of classes in the target variable.\n",
        "\n",
        "𝑝\n",
        "𝑖\n",
        "p\n",
        "i\n",
        "​\n",
        "  is the proportion of samples belonging to class\n",
        "𝑖\n",
        "i in the node.\n",
        "\n",
        "2. Range of Values:\n",
        "Gini Impurity:\n",
        "\n",
        "Ranges from 0 to 1.\n",
        "\n",
        "0 indicates perfect purity (all samples in the node belong to one class).\n",
        "\n",
        "1 is the maximum impurity (classes are evenly distributed).\n",
        "\n",
        "Entropy:\n",
        "\n",
        "Ranges from 0 to\n",
        "log\n",
        "⁡\n",
        "2\n",
        "(\n",
        "𝐶\n",
        ")\n",
        "log\n",
        "2\n",
        "​\n",
        " (C), where\n",
        "𝐶\n",
        "C is the number of classes.\n",
        "\n",
        "0 indicates perfect purity (all samples in the node belong to one class).\n",
        "\n",
        "The maximum entropy occurs when the classes are perfectly mixed. For binary classification, it would be 1 (when the classes are evenly distributed).\n",
        "\n",
        "3. Interpretation:\n",
        "Gini Impurity:\n",
        "\n",
        "Focuses on the probability of misclassification. If you randomly pick two samples from the dataset, the Gini Impurity represents the likelihood that they belong to different classes.\n",
        "\n",
        "Lower Gini values indicate a node is more pure (better for classification).\n",
        "\n",
        "Entropy:\n",
        "\n",
        "Measures the amount of uncertainty or disorder in the dataset. A higher entropy means more uncertainty about class membership.\n",
        "\n",
        "Lower entropy means the node has more homogeneous samples (more certain about classification).\n",
        "\n",
        "4. Computation and Behavior:\n",
        "Gini Impurity:\n",
        "\n",
        "Is computationally faster than entropy since it does not involve logarithms.\n",
        "\n",
        "It has a more biased tendency towards splitting the dataset into larger homogenous groups.\n",
        "\n",
        "Entropy:\n",
        "\n",
        "More sensitive to the distribution of class probabilities than Gini, especially when classes are unevenly distributed. This makes entropy more sensitive to small changes in the dataset.\n",
        "\n",
        "Tends to give more balanced splits than Gini when classes are mixed.\n",
        "\n",
        "5. Preference in Practice:\n",
        "Gini Impurity:\n",
        "\n",
        "More commonly used in practical implementations of Decision Trees, especially in libraries like scikit-learn.\n",
        "\n",
        "It is often chosen due to its simplicity and slightly faster computation.\n",
        "\n",
        "Entropy:\n",
        "\n",
        "Less commonly used in practice compared to Gini Impurity but is sometimes preferred when the exact reduction in disorder (uncertainty) is more critical.\n",
        "\n",
        "6. Impact on Splits:\n",
        "While both Gini and Entropy often lead to similar results in practice, Entropy may sometimes result in splits that are more balanced (more evenly distributed), whereas Gini tends to make splits that are more strongly focused on purer subgroups."
      ],
      "metadata": {
        "id": "4ZmHoC96BFR8"
      }
    },
    {
      "cell_type": "markdown",
      "source": [
        "7.What is the mathematical explanation behind Decision Trees\t?"
      ],
      "metadata": {
        "id": "FlYg9GWCBKDc"
      }
    },
    {
      "cell_type": "markdown",
      "source": [
        "Mathematical Explanation of Decision Trees\n",
        "A Decision Tree is a supervised machine learning model used for both classification and regression tasks. It recursively partitions the feature space into regions that are as homogeneous as possible with respect to the target variable. Here’s a mathematical breakdown of how Decision Trees work, focusing on the splitting criterion, tree structure, and decision-making process:\n",
        "\n",
        "1. Tree Structure\n",
        "A Decision Tree consists of:\n",
        "\n",
        "Nodes: Represent decisions or tests based on features.\n",
        "\n",
        "Root node: The topmost node that represents the entire dataset.\n",
        "\n",
        "Internal nodes: Nodes that represent decisions based on features, splitting the data.\n",
        "\n",
        "Leaf nodes: The final nodes that represent the predicted class (in classification) or value (in regression).\n",
        "\n",
        "Edges/Branches: Represent the outcome of a feature test that leads to further nodes or leaf nodes.\n",
        "\n",
        "2. Goal of a Decision Tree\n",
        "The main goal is to minimize the impurity or uncertainty of the dataset at each split and to predict the output at the leaf node (class label or value).\n",
        "\n",
        "3. Splitting Criterion\n",
        "At each node, the Decision Tree uses a splitting criterion to decide how to divide the data into subsets. Common criteria include Gini Impurity and Entropy for classification, and Variance Reduction for regression. These criteria help in deciding the best feature and threshold to split the data.\n",
        "\n",
        "3.1 Classification (Gini Impurity / Entropy)\n",
        "For binary classification, the splitting criterion is designed to maximize the information gain (in the case of entropy) or minimize the impurity (in the case of Gini).\n",
        "\n",
        "Gini Impurity: The Gini impurity for a dataset\n",
        "𝐷\n",
        "D is calculated as:\n",
        "\n",
        "𝐺\n",
        "𝑖\n",
        "𝑛\n",
        "𝑖\n",
        "(\n",
        "𝐷\n",
        ")\n",
        "=\n",
        "1\n",
        "−\n",
        "∑\n",
        "𝑖\n",
        "=\n",
        "1\n",
        "𝐶\n",
        "𝑝\n",
        "𝑖\n",
        "2\n",
        "Gini(D)=1−\n",
        "i=1\n",
        "∑\n",
        "C\n",
        "​\n",
        " p\n",
        "i\n",
        "2\n",
        "​\n",
        "\n",
        "Where:\n",
        "\n",
        "𝐶\n",
        "C is the number of classes.\n",
        "\n",
        "𝑝\n",
        "𝑖\n",
        "p\n",
        "i\n",
        "​\n",
        "  is the probability of class\n",
        "𝑖\n",
        "i in the dataset\n",
        "𝐷\n",
        "D.\n",
        "\n",
        "Entropy: The entropy of dataset\n",
        "𝐷\n",
        "D is calculated as:\n",
        "\n",
        "𝐸\n",
        "𝑛\n",
        "𝑡\n",
        "𝑟\n",
        "𝑜\n",
        "𝑝\n",
        "𝑦\n",
        "(\n",
        "𝐷\n",
        ")\n",
        "=\n",
        "−\n",
        "∑\n",
        "𝑖\n",
        "=\n",
        "1\n",
        "𝐶\n",
        "𝑝\n",
        "𝑖\n",
        "log\n",
        "⁡\n",
        "2\n",
        "𝑝\n",
        "𝑖\n",
        "Entropy(D)=−\n",
        "i=1\n",
        "∑\n",
        "C\n",
        "​\n",
        " p\n",
        "i\n",
        "​\n",
        " log\n",
        "2\n",
        "​\n",
        " p\n",
        "i\n",
        "​\n",
        "\n",
        "Where:\n",
        "\n",
        "𝐶\n",
        "C is the number of classes.\n",
        "\n",
        "𝑝\n",
        "𝑖\n",
        "p\n",
        "i\n",
        "​\n",
        "  is the proportion of class\n",
        "𝑖\n",
        "i in the dataset\n",
        "𝐷\n",
        "D.\n",
        "\n",
        "Information Gain (for entropy) is used to evaluate how much the uncertainty is reduced after a split:\n",
        "\n",
        "Information Gain\n",
        "(\n",
        "𝐷\n",
        ",\n",
        "𝐴\n",
        ")\n",
        "=\n",
        "Entropy\n",
        "(\n",
        "𝐷\n",
        ")\n",
        "−\n",
        "∑\n",
        "𝑣\n",
        "∈\n",
        "𝑉\n",
        "𝑎\n",
        "𝑙\n",
        "𝑢\n",
        "𝑒\n",
        "𝑠\n",
        "(\n",
        "𝐴\n",
        ")\n",
        "∣\n",
        "𝐷\n",
        "𝑣\n",
        "∣\n",
        "∣\n",
        "𝐷\n",
        "∣\n",
        "×\n",
        "Entropy\n",
        "(\n",
        "𝐷\n",
        "𝑣\n",
        ")\n",
        "Information Gain(D,A)=Entropy(D)−\n",
        "v∈Values(A)\n",
        "∑\n",
        "​\n",
        "  \n",
        "∣D∣\n",
        "∣D\n",
        "v\n",
        "​\n",
        " ∣\n",
        "​\n",
        " ×Entropy(D\n",
        "v\n",
        "​\n",
        " )\n",
        "Where:\n",
        "\n",
        "𝐴\n",
        "A is the attribute used for the split.\n",
        "\n",
        "𝐷\n",
        "𝑣\n",
        "D\n",
        "v\n",
        "​\n",
        "  is the subset of data where the value of attribute\n",
        "𝐴\n",
        "A is\n",
        "𝑣\n",
        "v.\n",
        "\n",
        "∣\n",
        "𝐷\n",
        "𝑣\n",
        "∣\n",
        "∣\n",
        "𝐷\n",
        "∣\n",
        "∣D∣\n",
        "∣D\n",
        "v\n",
        "​\n",
        " ∣\n",
        "​\n",
        "  is the weight of the subset relative to the entire dataset.\n",
        "\n",
        "For Gini Impurity, the split is chosen that minimizes the Gini score, aiming for the purest possible child nodes.\n",
        "\n",
        "3.2 Regression (Variance Reduction)\n",
        "In regression, the goal is to split the data in a way that minimizes the variance within each subset. The variance of a dataset\n",
        "𝐷\n",
        "D is calculated as:\n",
        "\n",
        "𝑉\n",
        "𝑎\n",
        "𝑟\n",
        "(\n",
        "𝐷\n",
        ")\n",
        "=\n",
        "1\n",
        "∣\n",
        "𝐷\n",
        "∣\n",
        "∑\n",
        "𝑖\n",
        "=\n",
        "1\n",
        "∣\n",
        "𝐷\n",
        "∣\n",
        "(\n",
        "𝑦\n",
        "𝑖\n",
        "−\n",
        "𝑦\n",
        "‾\n",
        ")\n",
        "2\n",
        "Var(D)=\n",
        "∣D∣\n",
        "1\n",
        "​\n",
        "  \n",
        "i=1\n",
        "∑\n",
        "∣D∣\n",
        "​\n",
        " (y\n",
        "i\n",
        "​\n",
        " −\n",
        "y\n",
        "​\n",
        " )\n",
        "2\n",
        "\n",
        "Where:\n",
        "\n",
        "𝑦\n",
        "𝑖\n",
        "y\n",
        "i\n",
        "​\n",
        "  is the target value for each data point.\n",
        "\n",
        "𝑦\n",
        "‾\n",
        "y\n",
        "​\n",
        "  is the mean of the target values in the dataset.\n",
        "\n",
        "Splitting Criterion: To select the best split, we aim to reduce the variance of the target values in the child nodes after the split.\n",
        "\n",
        "Variance Reduction\n",
        "=\n",
        "Var\n",
        "(\n",
        "𝐷\n",
        ")\n",
        "−\n",
        "∑\n",
        "𝑣\n",
        "∈\n",
        "𝑉\n",
        "𝑎\n",
        "𝑙\n",
        "𝑢\n",
        "𝑒\n",
        "𝑠\n",
        "(\n",
        "𝐴\n",
        ")\n",
        "∣\n",
        "𝐷\n",
        "𝑣\n",
        "∣\n",
        "∣\n",
        "𝐷\n",
        "∣\n",
        "×\n",
        "Var\n",
        "(\n",
        "𝐷\n",
        "𝑣\n",
        ")\n",
        "Variance Reduction=Var(D)−\n",
        "v∈Values(A)\n",
        "∑\n",
        "​\n",
        "  \n",
        "∣D∣\n",
        "∣D\n",
        "v\n",
        "​\n",
        " ∣\n",
        "​\n",
        " ×Var(D\n",
        "v\n",
        "​\n",
        " )\n",
        "4. Recursive Process (Top-Down Approach)\n",
        "Step 1: Start at the root node.\n",
        "\n",
        "The dataset is used to calculate the chosen impurity measure (e.g., Gini or Entropy) for the whole dataset.\n",
        "\n",
        "Step 2: Evaluate possible splits.\n",
        "\n",
        "For each feature, calculate the impurity or variance for each possible split (threshold). The split with the best (lowest) impurity or highest information gain is selected.\n",
        "\n",
        "Step 3: Apply the split.\n",
        "\n",
        "Divide the dataset into two subsets based on the chosen split. These subsets become the child nodes.\n",
        "\n",
        "Step 4: Repeat the process recursively for each child node until a stopping criterion is met, such as:\n",
        "\n",
        "Maximum depth of the tree.\n",
        "\n",
        "Minimum number of samples required to split.\n",
        "\n",
        "Impurity reduction becomes very small (or zero)"
      ],
      "metadata": {
        "id": "5XYkAUewBN1A"
      }
    },
    {
      "cell_type": "markdown",
      "source": [
        "8. What is Pre-Pruning in Decision Trees?"
      ],
      "metadata": {
        "id": "fKOUfoS2BTXf"
      }
    },
    {
      "cell_type": "markdown",
      "source": [
        "Pre-Pruning in Decision Trees\n",
        "Pre-pruning, also known as early stopping or cost-complexity pruning, refers to the process of stopping the growth of the Decision Tree before it fully develops. This is done by setting certain conditions or criteria that prevent the tree from growing beyond a certain point. The goal of pre-pruning is to avoid overfitting by limiting the complexity of the model early on, thus improving its generalization ability.\n",
        "\n",
        "How Pre-Pruning Works\n",
        "During the tree-building process, pre-pruning can be applied by imposing constraints on the tree’s growth. These constraints typically involve:\n",
        "\n",
        "Maximum Depth:\n",
        "\n",
        "Pre-pruning stops further splitting when the tree reaches a specified maximum depth. This ensures that the tree doesn’t become too deep and complex, potentially capturing noise in the data.\n",
        "\n",
        "Minimum Samples per Split:\n",
        "\n",
        "A node will only be split if there are at least a minimum number of samples in the node. If a node has fewer than the specified number of samples, it is not split further and becomes a leaf node.\n",
        "\n",
        "Minimum Samples per Leaf:\n",
        "\n",
        "After a split, each leaf node must contain at least a minimum number of samples. If a split results in a leaf with fewer samples than the specified threshold, the split is not performed.\n",
        "\n",
        "Maximum Number of Leaf Nodes:\n",
        "\n",
        "A constraint on the number of leaf nodes that the tree can have. Once the specified number of leaf nodes is reached, no further splits are allowed."
      ],
      "metadata": {
        "id": "bL1io65BBaz0"
      }
    },
    {
      "cell_type": "markdown",
      "source": [
        "9.What is Post-Pruning in Decision Trees?"
      ],
      "metadata": {
        "id": "RbgJ2lXIBe4l"
      }
    },
    {
      "cell_type": "markdown",
      "source": [
        "Post-Pruning in Decision Trees\n",
        "Post-pruning (also known as cost-complexity pruning or pruning after tree creation) is a technique used to simplify a fully grown decision tree by removing branches (subtrees) that have little predictive power, thereby reducing overfitting. Unlike pre-pruning, which stops the tree from growing too deep during its construction, post-pruning involves growing the tree to its full extent and then pruning it by removing nodes or subtrees that don't contribute much to the model’s performance.\n",
        "\n",
        "How Post-Pruning Works\n",
        "In post-pruning, the process generally follows these steps:\n",
        "\n",
        "Fully Grow the Tree:\n",
        "\n",
        "First, the decision tree is allowed to grow without any restrictions. This can result in a very deep tree with many nodes, which may fit the training data perfectly but overfit the data by capturing noise.\n",
        "\n",
        "Evaluate Subtrees:\n",
        "\n",
        "The tree is then evaluated, and each node or subtree is assessed to determine its importance. This is typically done by evaluating the cost-complexity of a subtree, which is a measure of the trade-off between the tree's complexity (its size) and its performance (its ability to fit the data).\n",
        "\n",
        "Prune Unnecessary Branches:\n",
        "\n",
        "Nodes or subtrees that do not significantly improve the predictive performance (often measured by a validation set or cross-validation) are removed. The idea is to simplify the tree without sacrificing too much accuracy.\n",
        "\n",
        "Re-evaluate the Tree:\n",
        "\n",
        "After pruning, the tree is re-evaluated to check its accuracy. If further pruning can improve performance, it is applied again until an optimal level of complexity is reached.\n",
        "\n",
        "How Post-Pruning Works Mathematically\n",
        "Post-pruning is often based on the cost-complexity pruning framework, which considers two factors:\n",
        "\n",
        "Error Rate (Empirical Error): This measures how well the tree fits the training data.\n",
        "\n",
        "Tree Size: The complexity of the tree, which increases as the tree grows deeper.\n",
        "\n",
        "The cost-complexity measure for a subtree\n",
        "𝑇\n",
        "T is typically defined as:\n",
        "\n",
        "𝐶\n",
        "𝛼\n",
        "(\n",
        "𝑇\n",
        ")\n",
        "=\n",
        "𝑅\n",
        "(\n",
        "𝑇\n",
        ")\n",
        "+\n",
        "𝛼\n",
        "⋅\n",
        "∣\n",
        "𝑇\n",
        "∣\n",
        "C\n",
        "α\n",
        "​\n",
        " (T)=R(T)+α⋅∣T∣\n",
        "Where:\n",
        "\n",
        "𝑅\n",
        "(\n",
        "𝑇\n",
        ")\n",
        "R(T) is the empirical error (often measured as the misclassification rate or the sum of squared errors for regression).\n",
        "\n",
        "∣\n",
        "𝑇\n",
        "∣\n",
        "∣T∣ is the size of the tree, which could be the number of terminal nodes (leaf nodes) or the total number of nodes.\n",
        "\n",
        "𝛼\n",
        "α is a penalty parameter that controls the trade-off between complexity and error. As\n",
        "𝛼\n",
        "α increases, the model is penalized more for complexity, leading to more aggressive pruning."
      ],
      "metadata": {
        "id": "diV_JVjXBwDM"
      }
    },
    {
      "cell_type": "markdown",
      "source": [
        "10. What is the difference between Pre-Pruning and Post-Pruning\t?"
      ],
      "metadata": {
        "id": "MIpXUiZ7Bwkf"
      }
    },
    {
      "cell_type": "markdown",
      "source": [
        "Difference Between Pre-Pruning and Post-Pruning in Decision Trees\n",
        "Pre-pruning and post-pruning are two techniques used to control the complexity of decision trees and prevent overfitting. While they both aim to improve the generalization of the model, they differ in when and how pruning is applied during the tree-building process.\n",
        "\n",
        "Here’s a detailed comparison:\n",
        "\n",
        "1. Timing of Pruning\n",
        "Pre-Pruning:\n",
        "\n",
        "Pruning occurs during the tree-building process.\n",
        "\n",
        "The tree is stopped from growing further based on certain constraints (e.g., maximum depth, minimum samples per leaf, minimum samples per split).\n",
        "\n",
        "If the conditions are met, no further splits are made, and the tree is \"pruned\" or limited before it grows too complex.\n",
        "\n",
        "Post-Pruning:\n",
        "\n",
        "Pruning occurs after the tree has been fully grown.\n",
        "\n",
        "The tree is allowed to grow to its maximum size (deep and complex), and then nodes or subtrees that are not useful are pruned.\n",
        "\n",
        "The goal is to remove branches that do not contribute significantly to predictive power, improving the model's generalization.\n",
        "\n",
        "2. Tree Growth\n",
        "Pre-Pruning:\n",
        "\n",
        "The tree's growth is restricted from the beginning by setting hyperparameters that limit complexity.\n",
        "\n",
        "It can stop the tree from splitting too early, resulting in a smaller, potentially simpler tree.\n",
        "\n",
        "Post-Pruning:\n",
        "\n",
        "The tree grows fully without constraints, allowing it to explore all potential splits.\n",
        "\n",
        "The model then evaluates the tree's performance and prunes unimportant branches afterward.\n",
        "\n",
        "3. Control Over Tree Complexity\n",
        "Pre-Pruning:\n",
        "\n",
        "Provides more control over the initial size and complexity of the tree because limits are set upfront (e.g., depth, minimum samples per split).\n",
        "\n",
        "It may stop the tree from capturing important patterns in the data if the constraints are too strict (underfitting).\n",
        "\n",
        "Post-Pruning:\n",
        "\n",
        "Allows the tree to capture as many patterns as possible during its growth phase.\n",
        "\n",
        "The complexity is then reduced by removing unimportant branches, resulting in a model that may capture the important features of the data without overfitting."
      ],
      "metadata": {
        "id": "35nYc_WSB5iw"
      }
    },
    {
      "cell_type": "markdown",
      "source": [
        "11. What is a Decision Tree Regressor?"
      ],
      "metadata": {
        "id": "D36SuJmQB9Tz"
      }
    },
    {
      "cell_type": "markdown",
      "source": [
        "A Decision Tree Regressor is a type of machine learning algorithm used for regression tasks, where the goal is to predict a continuous numeric value. It is a non-linear model that works by splitting the data into subsets based on feature values, in a hierarchical manner, to make predictions for the target variable.\n",
        "\n",
        "How It Works:\n",
        "Splitting: The decision tree regressor works by repeatedly splitting the dataset into smaller subsets based on feature values. Each node of the tree represents a decision based on a particular feature.\n",
        "\n",
        "Leaf Nodes: At the leaf nodes of the tree, the final prediction is made. In the case of regression, the prediction is typically the mean of the target values of the data points that fall into that particular leaf node.\n",
        "\n",
        "Recursive Process: The tree is built recursively, where at each node, the algorithm selects the best feature and value to split the data based on some impurity measure (like mean squared error (MSE) or variance reduction).\n",
        "\n",
        "Stopping Criterion: The tree continues to grow until a predefined stopping criterion is met. This could be a maximum tree depth, a minimum number of data points required at a node, or when the data within a node is sufficiently homogeneous.\n",
        "\n",
        "Key Characteristics:\n",
        "Non-Linear Model: Unlike linear regression, which assumes a linear relationship between input features and the target, decision trees do not make this assumption. They can handle complex, non-linear relationships.\n",
        "\n",
        "Interpretability: Decision trees are easy to visualize and interpret, as they provide a clear path from input features to the prediction. You can easily trace how a prediction was made by following the decisions made at each node.\n",
        "\n",
        "Handling of Different Data Types: Decision trees can handle both numerical and categorical data, making them versatile for a wide range of problems.\n",
        "\n",
        "Overfitting: One of the challenges with decision trees is that they can easily overfit the training data, especially if the tree grows too deep and becomes too specific to the data. This can be controlled using pruning techniques (e.g., pre-pruning and post-pruning), or by setting hyperparameters like max_depth."
      ],
      "metadata": {
        "id": "4z3a6Wt6B-e7"
      }
    },
    {
      "cell_type": "markdown",
      "source": [
        "12. What are the advantages and disadvantages of Decision Trees?"
      ],
      "metadata": {
        "id": "ip5cQmJ8CDGD"
      }
    },
    {
      "cell_type": "markdown",
      "source": [
        "Advantages and Disadvantages of Decision Trees\n",
        "Advantages:\n",
        "\n",
        "Easy to Interpret and Visualize:\n",
        "\n",
        "Decision trees are highly interpretable. The model is easy to understand and can be visualized as a flowchart, where each internal node represents a decision based on a feature, and each leaf node gives the predicted value or class.\n",
        "\n",
        "This makes decision trees ideal for problems where interpretability is essential, such as in healthcare or finance.\n",
        "\n",
        "Non-linear Relationships:\n",
        "\n",
        "Unlike linear regression, decision trees do not assume a linear relationship between the features and the target variable. This makes them capable of modeling complex, non-linear relationships in the data.\n",
        "\n",
        "Works with Both Categorical and Numerical Data:\n",
        "\n",
        "Decision trees can handle both numerical and categorical data without needing additional transformation. This makes them versatile and applicable to a wide variety of problems.\n",
        "\n",
        "No Need for Feature Scaling:\n",
        "\n",
        "Decision trees do not require normalization or standardization of features, unlike many other algorithms (e.g., KNN, SVM). The tree construction process is not affected by the scale of the features.\n",
        "Disadvantages:\n",
        "\n",
        "Overfitting:\n",
        "\n",
        "Decision trees are prone to overfitting, especially when they are deep. They tend to fit the training data very closely, which can result in poor generalization to new, unseen data. Overfitting can be controlled with techniques like pruning, setting a maximum depth, or limiting the minimum samples required to split a node.\n",
        "\n",
        "Instability:\n",
        "\n",
        "Small changes in the data can lead to a large change in the structure of the tree. This makes decision trees highly sensitive to variations in the dataset and can result in unstable models, especially when the training set is small.\n",
        "\n",
        "Bias Toward Features with More Levels:\n",
        "\n",
        "Decision trees can be biased toward features that have more categories (in the case of categorical data). For example, if one feature has many possible values, it may dominate the tree-building process, even if other features are more informative.\n",
        "\n",
        "Poor Performance on Unstructured Data:\n",
        "\n",
        "Decision trees are not the best choice for unstructured data like text, images, or audio. Models like neural networks or support vector machines (SVMs) are better suited for such data types."
      ],
      "metadata": {
        "id": "ufDf7L4XCMqy"
      }
    },
    {
      "cell_type": "markdown",
      "source": [
        "13. How does a Decision Tree handle missing values?"
      ],
      "metadata": {
        "id": "UdKpPWcjCQhx"
      }
    },
    {
      "cell_type": "markdown",
      "source": [
        "A Decision Tree can handle missing values in several ways, depending on the specific algorithm or framework being used. Here's a breakdown of the common techniques used to handle missing values in Decision Trees:\n",
        "\n",
        "1. Surrogate Splits:\n",
        "What it is: Surrogate splits are alternative splits that a decision tree can use when a feature has a missing value for a particular observation. In the case of missing data for a primary feature used for a split, the algorithm looks for another feature that could serve as a substitute to make the decision.\n",
        "\n",
        "How it works: If a data point has a missing value for a feature used for splitting, the tree uses another feature that behaves similarly to the missing feature in terms of predicting the target variable.\n",
        "\n",
        "Example: If a tree splits based on \"age\" and a record has a missing \"age\" value, the tree could use a surrogate split based on \"income\" or another correlated feature to make a decision.\n",
        "\n",
        "2. Imputation Before Building the Tree:\n",
        "What it is: Missing values can be imputed (filled in) before the tree-building process. Common techniques for imputation include filling missing values with the mean, median, or mode of the respective feature, or using more sophisticated imputation techniques such as k-nearest neighbors (KNN) imputation.\n",
        "\n",
        "How it works: The missing values are replaced with estimated values before the tree construction begins, so the tree doesn't need to handle them during the learning process.\n",
        "\n",
        "Example: If the \"age\" feature has missing values, the algorithm might replace them with the mean or median age of the available records.\n",
        "\n",
        "3. Assigning Missing Values to a Separate Category:\n",
        "What it is: In some cases, missing values are treated as a separate category or class in categorical features. This can be done for both categorical and numerical features.\n",
        "\n",
        "How it works: The missing values are not imputed or ignored but instead are explicitly labeled as a separate category and treated as a valid value during the tree-building process. This way, the decision tree can learn to make a decision based on whether the value is missing or not.\n",
        "\n",
        "Example: If the \"education level\" feature has missing values, the tree might create an additional category called \"missing\" to split the data based on the presence or absence of an education level."
      ],
      "metadata": {
        "id": "CtE3gZ1cCVW9"
      }
    },
    {
      "cell_type": "markdown",
      "source": [
        "14. How does a Decision Tree handle categorical features?"
      ],
      "metadata": {
        "id": "n_09sJARCX3-"
      }
    },
    {
      "cell_type": "markdown",
      "source": [
        "Decision Trees can handle categorical features (features with discrete values, such as \"yes/no\", \"low/high\", \"red/blue/green\", etc.) by using specific methods to split the data at each decision node. Here's how they work with categorical data:\n",
        "\n",
        "1. Splitting on Categorical Features:\n",
        "Binary Categorical Features:\n",
        "\n",
        "If a categorical feature has two possible values (binary), such as \"Yes\" or \"No\", the Decision Tree can split the dataset based on those two categories.\n",
        "\n",
        "Example: For a \"Has_Credit_Card\" feature, the tree might split the data into two branches: one for \"Yes\" and one for \"No\".\n",
        "\n",
        "Multiclass Categorical Features:\n",
        "\n",
        "If the categorical feature has more than two possible values (e.g., \"Red\", \"Blue\", \"Green\"), the Decision Tree can either:\n",
        "\n",
        "Create multiple branches: Each possible value of the categorical feature gets its own branch.\n",
        "\n",
        "Use one-hot encoding (in some implementations): One-hot encoding transforms the categorical variable into several binary features (e.g., for \"Color\" with categories \"Red\", \"Blue\", \"Green\", it will create three binary features \"Is_Red\", \"Is_Blue\", and \"Is_Green\")."
      ],
      "metadata": {
        "id": "oG_8wm8eCdv_"
      }
    },
    {
      "cell_type": "markdown",
      "source": [
        "15. What are some real-world applications of Decision Trees?\n"
      ],
      "metadata": {
        "id": "r1Seoux_CifL"
      }
    },
    {
      "cell_type": "markdown",
      "source": [
        "Decision Trees are widely used in various industries due to their simplicity, interpretability, and effectiveness in handling both classification and regression tasks. Here are some real-world applications:\n",
        "\n",
        "1. Healthcare\n",
        "Disease Diagnosis: Decision trees are used to predict the likelihood of diseases based on patient symptoms and medical histories. For example, they can help in diagnosing conditions like diabetes, heart disease, or cancer by analyzing patient data and identifying key risk factors.\n",
        "\n",
        "Example: A decision tree could predict whether a patient has diabetes based on features like age, BMI, blood sugar levels, and family history.\n",
        "\n",
        "Medical Decision Support: They assist healthcare professionals in decision-making by suggesting treatment options based on patient characteristics.\n",
        "\n",
        "Example: A decision tree could recommend treatment options (e.g., chemotherapy, radiation) for cancer patients based on tumor size, age, and other clinical factors.\n",
        "\n",
        "2. Finance\n",
        "Credit Scoring: Financial institutions use decision trees to evaluate the creditworthiness of borrowers. By analyzing past loan repayment histories, income levels, and other factors, decision trees can classify applicants into high-risk or low-risk categories.\n",
        "\n",
        "Example: A decision tree model might predict whether a loan applicant will default on their loan based on credit score, income, and previous debts.\n",
        "\n",
        "Fraud Detection: Decision trees are used to detect fraudulent transactions by analyzing patterns in transaction data, such as unusual spending behavior or account access from unfamiliar locations.\n",
        "\n",
        "Example: A decision tree might flag a credit card transaction as fraudulent based on factors like transaction size, location, and time.\n",
        "\n",
        "3. Marketing and Retail\n",
        "Customer Segmentation: Decision trees help businesses segment their customers based on various features, such as purchasing behavior, demographics, and online activity. This segmentation helps in targeting customers with personalized marketing campaigns.\n",
        "\n",
        "Example: A decision tree might classify customers into different segments (e.g., loyal customers, occasional buyers, and one-time visitors) based on their spending habits.\n",
        "\n",
        "Churn Prediction: In subscription-based businesses (e.g., telecom, SaaS), decision trees are used to predict customer churn. By analyzing historical data on customer behavior, decision trees can identify factors that increase the likelihood of customers canceling their service.\n",
        "\n",
        "Example: A decision tree might predict whether a customer is likely to cancel their subscription based on features like usage frequency, customer support calls, and account age.\n",
        "\n",
        "4. E-commerce\n",
        "Recommendation Systems: Decision trees are often used in recommendation engines to suggest products based on past purchasing behavior and customer preferences.\n",
        "\n",
        "Example: A decision tree might recommend products to customers based on their browsing history, similar users' purchasing patterns, or seasonal trends.\n",
        "\n",
        "Price Optimization: E-commerce platforms use decision trees to optimize pricing strategies by analyzing the impact of various factors (e.g., competition, demand, inventory) on sales.\n",
        "\n",
        "Example: A decision tree might recommend the optimal price for a product based on historical sales data, competitor prices, and customer demand.\n",
        "\n",
        "5. Manufacturing and Supply Chain\n",
        "Predictive Maintenance: In industrial settings, decision trees are used to predict equipment failures by analyzing sensor data and maintenance records. This helps businesses perform maintenance before a breakdown occurs, reducing downtime and costs.\n",
        "\n",
        "Example: A decision tree could predict when a machine is likely to fail based on factors like temperature, vibration, and usage hours.\n",
        "\n",
        "Supply Chain Optimization: Decision trees are used to optimize inventory levels, predict demand, and identify the best suppliers based on historical data and business requirements.\n",
        "\n",
        "Example: A decision tree might help a retailer predict product demand during holidays and recommend optimal stock levels.\n",
        "\n",
        "6. Sports Analytics\n",
        "Player Performance Prediction: Decision trees are used to predict player performance or outcomes of sports events by analyzing factors such as player stats, team composition, and historical performance.\n",
        "\n",
        "Example: A decision tree could predict the likelihood of a football player scoring a goal based on past performance, team strength, and match conditions.\n",
        "\n",
        "Match Outcome Prediction: Decision trees can predict the outcome of sports games by analyzing team performance data, player stats, and other variables like home/away games, weather, and injuries.\n",
        "\n",
        "Example: A decision tree might predict the outcome of a football match by analyzing factors like team rankings, average goals scored, and recent form."
      ],
      "metadata": {
        "id": "nA7G7PMeCnHD"
      }
    },
    {
      "cell_type": "markdown",
      "source": [
        "16. Write a Python program to train a Decision Tree Classifier on the Iris dataset and print the model accuracy*"
      ],
      "metadata": {
        "id": "gQBLcMu9Cqbl"
      }
    },
    {
      "cell_type": "code",
      "source": [
        "# Import necessary libraries\n",
        "from sklearn.datasets import load_iris\n",
        "from sklearn.model_selection import train_test_split\n",
        "from sklearn.tree import DecisionTreeClassifier\n",
        "from sklearn.metrics import accuracy_score\n",
        "\n",
        "# Load the Iris dataset\n",
        "iris = load_iris()\n",
        "X = iris.data  # Features\n",
        "y = iris.target  # Target labels\n",
        "\n",
        "# Split the dataset into training and testing sets\n",
        "X_train, X_test, y_train, y_test = train_test_split(X, y, test_size=0.3, random_state=42)\n",
        "\n",
        "# Initialize the Decision Tree Classifier\n",
        "clf = DecisionTreeClassifier(random_state=42)\n",
        "\n",
        "# Train the model\n",
        "clf.fit(X_train, y_train)\n",
        "\n",
        "# Make predictions on the test set\n",
        "y_pred = clf.predict(X_test)\n",
        "\n",
        "# Calculate and print the accuracy\n",
        "accuracy = accuracy_score(y_test, y_pred)\n",
        "print(f'Model Accuracy: {accuracy * 100:.2f}%')\n"
      ],
      "metadata": {
        "colab": {
          "base_uri": "https://localhost:8080/"
        },
        "id": "Be_jMTkHCwDo",
        "outputId": "53cbc965-6a46-468a-da28-e1d6873c4e87"
      },
      "execution_count": 1,
      "outputs": [
        {
          "output_type": "stream",
          "name": "stdout",
          "text": [
            "Model Accuracy: 100.00%\n"
          ]
        }
      ]
    },
    {
      "cell_type": "markdown",
      "source": [
        "17. Write a Python program to train a Decision Tree Classifier using Gini Impurity as the criterion and print the\n",
        "feature importances."
      ],
      "metadata": {
        "id": "1Lqdk798C_Z9"
      }
    },
    {
      "cell_type": "code",
      "source": [
        "# Import necessary libraries\n",
        "from sklearn.datasets import load_iris\n",
        "from sklearn.model_selection import train_test_split\n",
        "from sklearn.tree import DecisionTreeClassifier\n",
        "\n",
        "# Load the Iris dataset\n",
        "iris = load_iris()\n",
        "X = iris.data  # Features\n",
        "y = iris.target  # Target labels\n",
        "\n",
        "# Split the dataset into training and testing sets\n",
        "X_train, X_test, y_train, y_test = train_test_split(X, y, test_size=0.3, random_state=42)\n",
        "\n",
        "# Initialize the Decision Tree Classifier with Gini Impurity as the criterion\n",
        "clf = DecisionTreeClassifier(criterion='gini', random_state=42)\n",
        "\n",
        "# Train the model\n",
        "clf.fit(X_train, y_train)\n",
        "\n",
        "# Print the feature importances\n",
        "print('Feature Importances:')\n",
        "for feature, importance in zip(iris.feature_names, clf.feature_importances_):\n",
        "    print(f'{feature}: {importance:.4f}')\n"
      ],
      "metadata": {
        "colab": {
          "base_uri": "https://localhost:8080/"
        },
        "id": "KlSXmFuQDEX-",
        "outputId": "675f0556-3a52-4826-ed58-8730397e1141"
      },
      "execution_count": 2,
      "outputs": [
        {
          "output_type": "stream",
          "name": "stdout",
          "text": [
            "Feature Importances:\n",
            "sepal length (cm): 0.0000\n",
            "sepal width (cm): 0.0191\n",
            "petal length (cm): 0.8933\n",
            "petal width (cm): 0.0876\n"
          ]
        }
      ]
    },
    {
      "cell_type": "markdown",
      "source": [
        "18. Write a Python program to train a Decision Tree Classifier using Entropy as the splitting criterion and print the\n",
        "model accuracy."
      ],
      "metadata": {
        "id": "kXp4x60rDGZ2"
      }
    },
    {
      "cell_type": "code",
      "source": [
        "# Import necessary libraries\n",
        "from sklearn.datasets import load_iris\n",
        "from sklearn.model_selection import train_test_split\n",
        "from sklearn.tree import DecisionTreeClassifier\n",
        "from sklearn.metrics import accuracy_score\n",
        "\n",
        "# Load the Iris dataset\n",
        "iris = load_iris()\n",
        "X = iris.data  # Features\n",
        "y = iris.target  # Target labels\n",
        "\n",
        "# Split the dataset into training and testing sets\n",
        "X_train, X_test, y_train, y_test = train_test_split(X, y, test_size=0.3, random_state=42)\n",
        "\n",
        "# Initialize the Decision Tree Classifier with Entropy as the criterion\n",
        "clf = DecisionTreeClassifier(criterion='entropy', random_state=42)\n",
        "\n",
        "# Train the model\n",
        "clf.fit(X_train, y_train)\n",
        "\n",
        "# Make predictions on the test set\n",
        "y_pred = clf.predict(X_test)\n",
        "\n",
        "# Calculate and print the accuracy\n",
        "accuracy = accuracy_score(y_test, y_pred)\n",
        "print(f'Model Accuracy: {accuracy * 100:.2f}%')\n"
      ],
      "metadata": {
        "colab": {
          "base_uri": "https://localhost:8080/"
        },
        "id": "8Vci5JDfDK_k",
        "outputId": "b18044e6-6844-483b-daea-5305efd4a7e5"
      },
      "execution_count": 3,
      "outputs": [
        {
          "output_type": "stream",
          "name": "stdout",
          "text": [
            "Model Accuracy: 97.78%\n"
          ]
        }
      ]
    },
    {
      "cell_type": "markdown",
      "source": [
        "19. Write a Python program to train a Decision Tree Regressor on a housing dataset and evaluate using Mean\n",
        "Squared Error (MSE)."
      ],
      "metadata": {
        "id": "n1ljZQRdDQRp"
      }
    },
    {
      "cell_type": "code",
      "source": [
        "# Import necessary libraries\n",
        "from sklearn.datasets import fetch_california_housing\n",
        "from sklearn.model_selection import train_test_split\n",
        "from sklearn.tree import DecisionTreeRegressor\n",
        "from sklearn.metrics import mean_squared_error\n",
        "\n",
        "# Load the California Housing dataset\n",
        "data = fetch_california_housing()\n",
        "X = data.data  # Features\n",
        "y = data.target  # Target variable (house prices)\n",
        "\n",
        "# Split the dataset into training and testing sets\n",
        "X_train, X_test, y_train, y_test = train_test_split(X, y, test_size=0.3, random_state=42)\n",
        "\n",
        "# Initialize the Decision Tree Regressor\n",
        "regressor = DecisionTreeRegressor(random_state=42)\n",
        "\n",
        "# Train the model\n",
        "regressor.fit(X_train, y_train)\n",
        "\n",
        "# Make predictions on the test set\n",
        "y_pred = regressor.predict(X_test)\n",
        "\n",
        "# Calculate the Mean Squared Error (MSE)\n",
        "mse = mean_squared_error(y_test, y_pred)\n",
        "\n",
        "# Print the MSE\n",
        "print(f'Mean Squared Error: {mse:.4f}')\n"
      ],
      "metadata": {
        "colab": {
          "base_uri": "https://localhost:8080/"
        },
        "id": "f-vZD2OHDV_x",
        "outputId": "839b2152-8f88-4052-9296-17d04ac7c9ce"
      },
      "execution_count": 4,
      "outputs": [
        {
          "output_type": "stream",
          "name": "stdout",
          "text": [
            "Mean Squared Error: 0.5280\n"
          ]
        }
      ]
    },
    {
      "cell_type": "markdown",
      "source": [
        "20. Write a Python program to train a Decision Tree Classifier and visualize the tree using graphviz"
      ],
      "metadata": {
        "id": "jiEK8Z5QDXct"
      }
    },
    {
      "cell_type": "code",
      "source": [
        "# Import necessary libraries\n",
        "from sklearn.datasets import load_iris\n",
        "from sklearn.tree import DecisionTreeClassifier, export_graphviz\n",
        "from sklearn.model_selection import train_test_split\n",
        "from sklearn import tree\n",
        "import graphviz\n",
        "\n",
        "# Load the Iris dataset\n",
        "iris = load_iris()\n",
        "X = iris.data  # Features\n",
        "y = iris.target  # Target labels\n",
        "\n",
        "# Split the dataset into training and testing sets\n",
        "X_train, X_test, y_train, y_test = train_test_split(X, y, test_size=0.3, random_state=42)\n",
        "\n",
        "# Initialize the Decision Tree Classifier\n",
        "clf = DecisionTreeClassifier(random_state=42)\n",
        "\n",
        "# Train the model\n",
        "clf.fit(X_train, y_train)\n",
        "\n",
        "# Visualize the tree using Graphviz\n",
        "dot_data = export_graphviz(clf, out_file=None,\n",
        "                           feature_names=iris.feature_names,\n",
        "                           class_names=iris.target_names,\n",
        "                           filled=True, rounded=True,\n",
        "                           special_characters=True)\n",
        "graph = graphviz.Source(dot_data)\n",
        "graph.render(\"iris_decision_tree\")  # Saves the visualization as a file\n",
        "\n",
        "# Display the tree\n",
        "graph.view()  # This will open the tree visualization\n"
      ],
      "metadata": {
        "colab": {
          "base_uri": "https://localhost:8080/",
          "height": 36
        },
        "id": "UgmD3BETDbub",
        "outputId": "8b5c115d-2114-4fa1-bf77-e5c7d3693ac5"
      },
      "execution_count": 5,
      "outputs": [
        {
          "output_type": "execute_result",
          "data": {
            "text/plain": [
              "'iris_decision_tree.pdf'"
            ],
            "application/vnd.google.colaboratory.intrinsic+json": {
              "type": "string"
            }
          },
          "metadata": {},
          "execution_count": 5
        }
      ]
    },
    {
      "cell_type": "markdown",
      "source": [
        "21. Write a Python program to train a Decision Tree Classifier with a maximum depth of 3 and compare its\n",
        "accuracy with a fully grown tree."
      ],
      "metadata": {
        "id": "f9KGVP2PDfmD"
      }
    },
    {
      "cell_type": "code",
      "source": [
        "# Import necessary libraries\n",
        "from sklearn.datasets import load_iris\n",
        "from sklearn.model_selection import train_test_split\n",
        "from sklearn.tree import DecisionTreeClassifier\n",
        "from sklearn.metrics import accuracy_score\n",
        "\n",
        "# Load the Iris dataset\n",
        "iris = load_iris()\n",
        "X = iris.data  # Features\n",
        "y = iris.target  # Target labels\n",
        "\n",
        "# Split the dataset into training and testing sets\n",
        "X_train, X_test, y_train, y_test = train_test_split(X, y, test_size=0.3, random_state=42)\n",
        "\n",
        "# Initialize and train a Decision Tree Classifier with maximum depth of 3\n",
        "clf_max_depth_3 = DecisionTreeClassifier(max_depth=3, random_state=42)\n",
        "clf_max_depth_3.fit(X_train, y_train)\n",
        "\n",
        "# Make predictions using the tree with max depth 3\n",
        "y_pred_max_depth_3 = clf_max_depth_3.predict(X_test)\n",
        "\n",
        "# Calculate the accuracy of the tree with max depth 3\n",
        "accuracy_max_depth_3 = accuracy_score(y_test, y_pred_max_depth_3)\n",
        "print(f'Accuracy of Decision Tree with max depth 3: {accuracy_max_depth_3 * 100:.2f}%')\n",
        "\n",
        "# Initialize and train a fully grown Decision Tree Classifier (no max depth constraint)\n",
        "clf_full_tree = DecisionTreeClassifier(random_state=42)\n",
        "clf_full_tree.fit(X_train, y_train)\n",
        "\n",
        "# Make predictions using the fully grown tree\n",
        "y_pred_full_tree = clf_full_tree.predict(X_test)\n",
        "\n",
        "# Calculate the accuracy of the fully grown tree\n",
        "accuracy_full_tree = accuracy_score(y_test, y_pred_full_tree)\n",
        "print(f'Accuracy of Fully Grown Decision Tree: {accuracy_full_tree * 100:.2f}%')\n"
      ],
      "metadata": {
        "colab": {
          "base_uri": "https://localhost:8080/"
        },
        "id": "7Y5IL6WEDkKQ",
        "outputId": "fd2c29d7-7cbb-4aba-cfe6-f696b9367efe"
      },
      "execution_count": 6,
      "outputs": [
        {
          "output_type": "stream",
          "name": "stdout",
          "text": [
            "Accuracy of Decision Tree with max depth 3: 100.00%\n",
            "Accuracy of Fully Grown Decision Tree: 100.00%\n"
          ]
        }
      ]
    },
    {
      "cell_type": "markdown",
      "source": [
        "22. Write a Python program to train a Decision Tree Classifier using min_samples_split=5 and compare its\n",
        "accuracy with a default tree."
      ],
      "metadata": {
        "id": "Cycr8j-9DnDs"
      }
    },
    {
      "cell_type": "code",
      "source": [
        "from sklearn.datasets import load_iris\n",
        "from sklearn.model_selection import train_test_split\n",
        "from sklearn.tree import DecisionTreeClassifier\n",
        "from sklearn.metrics import accuracy_score\n",
        "\n",
        "# Load the dataset\n",
        "iris = load_iris()\n",
        "X = iris.data\n",
        "y = iris.target\n",
        "\n",
        "# Split into training and testing data\n",
        "X_train, X_test, y_train, y_test = train_test_split(X, y, test_size=0.3, random_state=42)\n",
        "\n",
        "# Default Decision Tree\n",
        "default_tree = DecisionTreeClassifier(random_state=42)\n",
        "default_tree.fit(X_train, y_train)\n",
        "default_preds = default_tree.predict(X_test)\n",
        "default_accuracy = accuracy_score(y_test, default_preds)\n",
        "\n",
        "# Decision Tree with min_samples_split=5\n",
        "custom_tree = DecisionTreeClassifier(min_samples_split=5, random_state=42)\n",
        "custom_tree.fit(X_train, y_train)\n",
        "custom_preds = custom_tree.predict(X_test)\n",
        "custom_accuracy = accuracy_score(y_test, custom_preds)\n",
        "\n",
        "# Output comparison\n",
        "print(\"Accuracy of Default Decision Tree:\", default_accuracy)\n",
        "print(\"Accuracy of Decision Tree with min_samples_split=5:\", custom_accuracy)\n"
      ],
      "metadata": {
        "colab": {
          "base_uri": "https://localhost:8080/"
        },
        "id": "wqpZ9SRUDqwW",
        "outputId": "99d0efc7-e947-4fd5-cae8-b90246596063"
      },
      "execution_count": 7,
      "outputs": [
        {
          "output_type": "stream",
          "name": "stdout",
          "text": [
            "Accuracy of Default Decision Tree: 1.0\n",
            "Accuracy of Decision Tree with min_samples_split=5: 1.0\n"
          ]
        }
      ]
    },
    {
      "cell_type": "markdown",
      "source": [
        "23. Write a Python program to apply feature scaling before training a Decision Tree Classifier and compare its\n",
        "accuracy with unscaled data."
      ],
      "metadata": {
        "id": "dVkhiqiWD2jz"
      }
    },
    {
      "cell_type": "code",
      "source": [
        "from sklearn.datasets import load_iris\n",
        "from sklearn.model_selection import train_test_split\n",
        "from sklearn.preprocessing import StandardScaler\n",
        "from sklearn.tree import DecisionTreeClassifier\n",
        "from sklearn.metrics import accuracy_score\n",
        "\n",
        "# Load dataset\n",
        "iris = load_iris()\n",
        "X = iris.data\n",
        "y = iris.target\n",
        "\n",
        "# Train-test split\n",
        "X_train, X_test, y_train, y_test = train_test_split(X, y, test_size=0.3, random_state=42)\n",
        "\n",
        "# 1. Train on unscaled data\n",
        "tree_unscaled = DecisionTreeClassifier(random_state=42)\n",
        "tree_unscaled.fit(X_train, y_train)\n",
        "preds_unscaled = tree_unscaled.predict(X_test)\n",
        "accuracy_unscaled = accuracy_score(y_test, preds_unscaled)\n",
        "\n",
        "# 2. Apply feature scaling\n",
        "scaler = StandardScaler()\n",
        "X_train_scaled = scaler.fit_transform(X_train)\n",
        "X_test_scaled = scaler.transform(X_test)\n",
        "\n",
        "# Train on scaled data\n",
        "tree_scaled = DecisionTreeClassifier(random_state=42)\n",
        "tree_scaled.fit(X_train_scaled, y_train)\n",
        "preds_scaled = tree_scaled.predict(X_test_scaled)\n",
        "accuracy_scaled = accuracy_score(y_test, preds_scaled)\n",
        "\n",
        "# Output comparison\n",
        "print(\"Accuracy on Unscaled Data:\", accuracy_unscaled)\n",
        "print(\"Accuracy on Scaled Data:\", accuracy_scaled)\n"
      ],
      "metadata": {
        "colab": {
          "base_uri": "https://localhost:8080/"
        },
        "id": "QRo1SphDD9rl",
        "outputId": "a96e7ab4-9f4b-4d97-9142-59438a9afa63"
      },
      "execution_count": 8,
      "outputs": [
        {
          "output_type": "stream",
          "name": "stdout",
          "text": [
            "Accuracy on Unscaled Data: 1.0\n",
            "Accuracy on Scaled Data: 1.0\n"
          ]
        }
      ]
    },
    {
      "cell_type": "markdown",
      "source": [
        "24. Write a Python program to train a Decision Tree Classifier using One-vs-Rest (OvR) strategy for multiclass\n",
        "classification."
      ],
      "metadata": {
        "id": "vRWJfUTrEA0U"
      }
    },
    {
      "cell_type": "code",
      "source": [
        "from sklearn.datasets import load_iris\n",
        "from sklearn.model_selection import train_test_split\n",
        "from sklearn.tree import DecisionTreeClassifier\n",
        "from sklearn.multiclass import OneVsRestClassifier\n",
        "from sklearn.metrics import accuracy_score\n",
        "\n",
        "# Load the Iris dataset (multiclass: 3 classes)\n",
        "iris = load_iris()\n",
        "X = iris.data\n",
        "y = iris.target\n",
        "\n",
        "# Train-test split\n",
        "X_train, X_test, y_train, y_test = train_test_split(X, y, test_size=0.3, random_state=42)\n",
        "\n",
        "# One-vs-Rest wrapper around a Decision Tree\n",
        "ovr_classifier = OneVsRestClassifier(DecisionTreeClassifier(random_state=42))\n",
        "ovr_classifier.fit(X_train, y_train)\n",
        "\n",
        "# Make predictions and evaluate\n",
        "y_pred = ovr_classifier.predict(X_test)\n",
        "accuracy = accuracy_score(y_test, y_pred)\n",
        "\n",
        "print(\"Accuracy of Decision Tree with One-vs-Rest strategy:\", accuracy)\n"
      ],
      "metadata": {
        "colab": {
          "base_uri": "https://localhost:8080/"
        },
        "id": "wq_hqUx0EEUa",
        "outputId": "f2607408-9b7e-41c8-c609-2974ae3b64d7"
      },
      "execution_count": 9,
      "outputs": [
        {
          "output_type": "stream",
          "name": "stdout",
          "text": [
            "Accuracy of Decision Tree with One-vs-Rest strategy: 1.0\n"
          ]
        }
      ]
    },
    {
      "cell_type": "markdown",
      "source": [
        "25. Write a Python program to train a Decision Tree Classifier and display the feature importance scores."
      ],
      "metadata": {
        "id": "urCvcLi9EJjw"
      }
    },
    {
      "cell_type": "code",
      "source": [
        "from sklearn.datasets import load_iris\n",
        "from sklearn.tree import DecisionTreeClassifier\n",
        "import pandas as pd\n",
        "\n",
        "# Load dataset\n",
        "iris = load_iris()\n",
        "X = iris.data\n",
        "y = iris.target\n",
        "feature_names = iris.feature_names\n",
        "\n",
        "# Train Decision Tree Classifier\n",
        "clf = DecisionTreeClassifier(random_state=42)\n",
        "clf.fit(X, y)\n",
        "\n",
        "# Get feature importances\n",
        "importances = clf.feature_importances_\n",
        "\n",
        "# Create a DataFrame for better display\n",
        "importance_df = pd.DataFrame({\n",
        "    'Feature': feature_names,\n",
        "    'Importance Score': importances\n",
        "}).sort_values(by='Importance Score', ascending=False)\n",
        "\n",
        "# Display results\n",
        "print(\"Feature Importance Scores:\")\n",
        "print(importance_df)\n"
      ],
      "metadata": {
        "colab": {
          "base_uri": "https://localhost:8080/"
        },
        "id": "Ro0nr_YEENHz",
        "outputId": "74883dae-d7ff-45dc-93db-ca20a261aefa"
      },
      "execution_count": 10,
      "outputs": [
        {
          "output_type": "stream",
          "name": "stdout",
          "text": [
            "Feature Importance Scores:\n",
            "             Feature  Importance Score\n",
            "2  petal length (cm)          0.564056\n",
            "3   petal width (cm)          0.422611\n",
            "0  sepal length (cm)          0.013333\n",
            "1   sepal width (cm)          0.000000\n"
          ]
        }
      ]
    },
    {
      "cell_type": "markdown",
      "source": [
        "26. Write a Python program to train a Decision Tree Regressor with max_depth=5 and compare its performance\n",
        "with an unrestricted tree."
      ],
      "metadata": {
        "id": "3YnaMAbCEXlH"
      }
    },
    {
      "cell_type": "code",
      "source": [
        "from sklearn.datasets import fetch_california_housing\n",
        "from sklearn.model_selection import train_test_split\n",
        "from sklearn.tree import DecisionTreeRegressor\n",
        "from sklearn.metrics import mean_squared_error\n",
        "\n",
        "# Load the dataset\n",
        "data = fetch_california_housing()\n",
        "X = data.data\n",
        "y = data.target\n",
        "\n",
        "# Split into training and testing sets\n",
        "X_train, X_test, y_train, y_test = train_test_split(X, y, test_size=0.3, random_state=42)\n",
        "\n",
        "# 1. Decision Tree Regressor with max_depth=5\n",
        "reg_limited = DecisionTreeRegressor(max_depth=5, random_state=42)\n",
        "reg_limited.fit(X_train, y_train)\n",
        "preds_limited = reg_limited.predict(X_test)\n",
        "mse_limited = mean_squared_error(y_test, preds_limited)\n",
        "\n",
        "# 2. Decision Tree Regressor with no depth limit\n",
        "reg_unlimited = DecisionTreeRegressor(random_state=42)\n",
        "reg_unlimited.fit(X_train, y_train)\n",
        "preds_unlimited = reg_unlimited.predict(X_test)\n",
        "mse_unlimited = mean_squared_error(y_test, preds_unlimited)\n",
        "\n",
        "# Output comparison\n",
        "print(\"MSE with max_depth=5:\", mse_limited)\n",
        "print(\"MSE with no depth limit:\", mse_unlimited)\n"
      ],
      "metadata": {
        "colab": {
          "base_uri": "https://localhost:8080/"
        },
        "id": "EPz2JFjgEb95",
        "outputId": "07589cea-60af-4ebc-a55b-91b1d475d111"
      },
      "execution_count": 11,
      "outputs": [
        {
          "output_type": "stream",
          "name": "stdout",
          "text": [
            "MSE with max_depth=5: 0.5210801561811793\n",
            "MSE with no depth limit: 0.5280096503174904\n"
          ]
        }
      ]
    },
    {
      "cell_type": "markdown",
      "source": [
        "27. Write a Python program to train a Decision Tree Classifier, apply Cost Complexity Pruning (CCP), and\n",
        "visualize its effect on accuracy."
      ],
      "metadata": {
        "id": "utyRzrnmEea7"
      }
    },
    {
      "cell_type": "code",
      "source": [
        "import matplotlib.pyplot as plt\n",
        "from sklearn.datasets import load_iris\n",
        "from sklearn.tree import DecisionTreeClassifier\n",
        "from sklearn.model_selection import train_test_split\n",
        "from sklearn.metrics import accuracy_score\n",
        "\n",
        "# Load dataset\n",
        "iris = load_iris()\n",
        "X, y = iris.data, iris.target\n",
        "\n",
        "# Split into training and testing sets\n",
        "X_train, X_test, y_train, y_test = train_test_split(X, y, test_size=0.3, random_state=42)\n",
        "\n",
        "# Train a base Decision Tree to get effective alphas\n",
        "clf = DecisionTreeClassifier(random_state=42)\n",
        "path = clf.cost_complexity_pruning_path(X_train, y_train)\n",
        "ccp_alphas = path.ccp_alphas\n",
        "\n",
        "# Train a tree for each alpha\n",
        "clfs = []\n",
        "for ccp_alpha in ccp_alphas:\n",
        "    clf = DecisionTreeClassifier(random_state=42, ccp_alpha=ccp_alpha)\n",
        "    clf.fit(X_train, y_train)\n",
        "    clfs.append(clf)\n",
        "\n",
        "# Remove the last tree which is usually just the root\n",
        "clfs = clfs[:-1]\n",
        "ccp_alphas = ccp_alphas[:-1]\n",
        "\n",
        "# Evaluate accuracy\n",
        "train_scores = [clf.score(X_train, y_train) for clf in clfs]\n",
        "test_scores = [clf.score(X_test, y_test) for clf in clfs]\n",
        "\n",
        "# Plotting\n",
        "plt.figure(figsize=(10, 6))\n",
        "plt.plot(ccp_alphas, train_scores, marker='o', label='Train Accuracy', drawstyle=\"steps-post\")\n",
        "plt.plot(ccp_alphas, test_scores, marker='o', label='Test Accuracy', drawstyle=\"steps-post\")\n",
        "plt.xlabel(\"ccp_alpha (pruning strength)\")\n",
        "plt.ylabel(\"Accuracy\")\n",
        "plt.title(\"Effect of Cost Complexity Pruning on Decision Tree Accuracy\")\n",
        "plt.legend()\n",
        "plt.grid(True)\n",
        "plt.tight_layout()\n",
        "plt.show()\n"
      ],
      "metadata": {
        "colab": {
          "base_uri": "https://localhost:8080/",
          "height": 607
        },
        "id": "oGxbqxJJEioY",
        "outputId": "82199674-cf67-40d7-dc45-f88924002b36"
      },
      "execution_count": 12,
      "outputs": [
        {
          "output_type": "display_data",
          "data": {
            "text/plain": [
              "<Figure size 1000x600 with 1 Axes>"
            ],
            "image/png": "[encoded data removed]"
          },
          "metadata": {}
        }
      ]
    },
    {
      "cell_type": "markdown",
      "source": [
        "28. Write a Python program to train a Decision Tree Classifier and evaluate its performance using Precision,\n",
        "Recall, and F1-Score."
      ],
      "metadata": {
        "id": "wJuNpmFUEoMF"
      }
    },
    {
      "cell_type": "code",
      "source": [
        "from sklearn.datasets import load_iris\n",
        "from sklearn.model_selection import train_test_split\n",
        "from sklearn.tree import DecisionTreeClassifier\n",
        "from sklearn.metrics import classification_report\n",
        "\n",
        "# Load dataset\n",
        "iris = load_iris()\n",
        "X, y = iris.data, iris.target\n",
        "\n",
        "# Split dataset\n",
        "X_train, X_test, y_train, y_test = train_test_split(X, y, test_size=0.3, random_state=42)\n",
        "\n",
        "# Train Decision Tree Classifier\n",
        "clf = DecisionTreeClassifier(random_state=42)\n",
        "clf.fit(X_train, y_train)\n",
        "\n",
        "# Predict on test set\n",
        "y_pred = clf.predict(X_test)\n",
        "\n",
        "# Evaluate with precision, recall, and F1-score\n",
        "report = classification_report(y_test, y_pred, target_names=iris.target_names)\n",
        "\n",
        "print(\"Classification Report:\\n\")\n",
        "print(report)\n"
      ],
      "metadata": {
        "colab": {
          "base_uri": "https://localhost:8080/"
        },
        "id": "WPkMOgdDEtTe",
        "outputId": "3696a80a-e301-415c-98aa-562e40016645"
      },
      "execution_count": 13,
      "outputs": [
        {
          "output_type": "stream",
          "name": "stdout",
          "text": [
            "Classification Report:\n",
            "\n",
            "              precision    recall  f1-score   support\n",
            "\n",
            "      setosa       1.00      1.00      1.00        19\n",
            "  versicolor       1.00      1.00      1.00        13\n",
            "   virginica       1.00      1.00      1.00        13\n",
            "\n",
            "    accuracy                           1.00        45\n",
            "   macro avg       1.00      1.00      1.00        45\n",
            "weighted avg       1.00      1.00      1.00        45\n",
            "\n"
          ]
        }
      ]
    },
    {
      "cell_type": "markdown",
      "source": [
        "29. Write a Python program to train a Decision Tree Classifier and visualize the confusion matrix using seaborn."
      ],
      "metadata": {
        "id": "cZtPOCleEwti"
      }
    },
    {
      "cell_type": "code",
      "source": [
        "import seaborn as sns\n",
        "import matplotlib.pyplot as plt\n",
        "from sklearn.datasets import load_iris\n",
        "from sklearn.model_selection import train_test_split\n",
        "from sklearn.tree import DecisionTreeClassifier\n",
        "from sklearn.metrics import confusion_matrix\n",
        "\n",
        "# Load dataset\n",
        "iris = load_iris()\n",
        "X, y = iris.data, iris.target\n",
        "target_names = iris.target_names\n",
        "\n",
        "# Split into train and test sets\n",
        "X_train, X_test, y_train, y_test = train_test_split(X, y, test_size=0.3, random_state=42)\n",
        "\n",
        "# Train Decision Tree Classifier\n",
        "clf = DecisionTreeClassifier(random_state=42)\n",
        "clf.fit(X_train, y_train)\n",
        "\n",
        "# Predict\n",
        "y_pred = clf.predict(X_test)\n",
        "\n",
        "# Confusion Matrix\n",
        "cm = confusion_matrix(y_test, y_pred)\n",
        "\n",
        "# Plot confusion matrix\n",
        "plt.figure(figsize=(6, 4))\n",
        "sns.heatmap(cm, annot=True, fmt='d', cmap='Blues',\n",
        "            xticklabels=target_names,\n",
        "            yticklabels=target_names)\n",
        "plt.xlabel('Predicted')\n",
        "plt.ylabel('Actual')\n",
        "plt.title('Confusion Matrix of Decision Tree Classifier')\n",
        "plt.tight_layout()\n",
        "plt.show()\n"
      ],
      "metadata": {
        "colab": {
          "base_uri": "https://localhost:8080/",
          "height": 407
        },
        "id": "-ihm8taMEyqo",
        "outputId": "2072ff59-e21d-4a5b-e1ea-0890b68cfa21"
      },
      "execution_count": 14,
      "outputs": [
        {
          "output_type": "display_data",
          "data": {
            "text/plain": [
              "<Figure size 600x400 with 2 Axes>"
            ],
            "image/png": "[encoded data removed]"
          },
          "metadata": {}
        }
      ]
    },
    {
      "cell_type": "markdown",
      "source": [
        "30. Write a Python program to train a Decision Tree Classifier and use GridSearchCV to find the optimal values\n",
        "for max_depth and min_samples_split."
      ],
      "metadata": {
        "id": "gnlfl9kHE0z9"
      }
    },
    {
      "cell_type": "code",
      "source": [
        "from sklearn.datasets import load_iris\n",
        "from sklearn.model_selection import train_test_split, GridSearchCV\n",
        "from sklearn.tree import DecisionTreeClassifier\n",
        "from sklearn.metrics import accuracy_score\n",
        "\n",
        "# Load the dataset\n",
        "iris = load_iris()\n",
        "X, y = iris.data, iris.target\n",
        "\n",
        "# Split into train and test sets\n",
        "X_train, X_test, y_train, y_test = train_test_split(X, y, test_size=0.3, random_state=42)\n",
        "\n",
        "# Set up the parameter grid\n",
        "param_grid = {\n",
        "    'max_depth': [2, 3, 4, 5, 6, None],\n",
        "    'min_samples_split': [2, 5, 10, 20]\n",
        "}\n",
        "\n",
        "# Initialize the classifier\n",
        "clf = DecisionTreeClassifier(random_state=42)\n",
        "\n",
        "# Set up GridSearchCV\n",
        "grid_search = GridSearchCV(clf, param_grid, cv=5, scoring='accuracy')\n",
        "grid_search.fit(X_train, y_train)\n",
        "\n",
        "# Best parameters and model\n",
        "print(\"Best Parameters:\", grid_search.best_params_)\n",
        "best_model = grid_search.best_estimator_\n",
        "\n",
        "# Evaluate on test data\n",
        "y_pred = best_model.predict(X_test)\n",
        "accuracy = accuracy_score(y_test, y_pred)\n",
        "print(\"Test Accuracy with Best Parameters:\", accuracy)\n"
      ],
      "metadata": {
        "colab": {
          "base_uri": "https://localhost:8080/"
        },
        "id": "jQ7raip8FDQz",
        "outputId": "98f98654-e188-4706-8402-d74cfa6143e5"
      },
      "execution_count": 15,
      "outputs": [
        {
          "output_type": "stream",
          "name": "stdout",
          "text": [
            "Best Parameters: {'max_depth': 4, 'min_samples_split': 10}\n",
            "Test Accuracy with Best Parameters: 1.0\n"
          ]
        }
      ]
    }
  ]
}