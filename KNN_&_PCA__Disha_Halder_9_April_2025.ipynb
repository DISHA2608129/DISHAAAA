{
  "nbformat": 4,
  "nbformat_minor": 0,
  "metadata": {
    "colab": {
      "provenance": [],
      "authorship_tag": "ABX9TyOLnl/njGtlvFlT/KUFeLrC",
      "include_colab_link": true
    },
    "kernelspec": {
      "name": "python3",
      "display_name": "Python 3"
    },
    "language_info": {
      "name": "python"
    }
  },
  "cells": [
    {
      "cell_type": "markdown",
      "metadata": {
        "id": "view-in-github",
        "colab_type": "text"
      },
      "source": [
        "<a href=\"https://colab.research.google.com/github/DISHA2608129/DISHAAAA/blob/main/KNN_%26_PCA__Disha_Halder_9_April_2025.ipynb\" target=\"_parent\"><img src=\"https://colab.research.google.com/assets/colab-badge.svg\" alt=\"Open In Colab\"/></a>"
      ]
    },
    {
      "cell_type": "markdown",
      "source": [
        "Theoretical\n",
        "\n",
        "What is K-Nearest Neighbors (KNN) and how does it work?"
      ],
      "metadata": {
        "id": "J5a0qf2MyZ12"
      }
    },
    {
      "cell_type": "markdown",
      "source": [
        "K-Nearest Neighbors (KNN) is a simple and intuitive supervised learning algorithm used for both classification and regression tasks. It works by identifying the ‘K’ closest data points (neighbors) to a new input and making predictions based on those neighbors. For classification, the algorithm assigns the class most common among the K nearest neighbors. In regression, it predicts the average value of the nearest points. KNN does not make assumptions about the data distribution and is known as a lazy learner because it does not build a model until prediction time.\n",
        "\n"
      ],
      "metadata": {
        "id": "fL0MQQG_ycG-"
      }
    },
    {
      "cell_type": "markdown",
      "source": [
        "What is the difference between KNN Classification and KNN Regression?"
      ],
      "metadata": {
        "id": "VhanRBNzygTv"
      }
    },
    {
      "cell_type": "markdown",
      "source": [
        "The main difference between KNN classification and KNN regression lies in the type of output they generate. KNN classification is used when the output variable is categorical, and it predicts the class label based on the majority vote of the nearest neighbors. On the other hand, KNN regression is used for continuous output, where it predicts a value by averaging the values of the K nearest data points. Both approaches use the same logic to find neighbors but differ in how they interpret the neighbors’ information. The choice between the two depends on the nature of the target variable."
      ],
      "metadata": {
        "id": "O_41WG9TylWs"
      }
    },
    {
      "cell_type": "markdown",
      "source": [
        "What is the role of the distance metric in KNN?"
      ],
      "metadata": {
        "id": "QAoDe9apyoeo"
      }
    },
    {
      "cell_type": "markdown",
      "source": [
        "The distance metric plays a crucial role in the performance of the KNN algorithm. It determines how the “closeness” of data points is calculated, which directly impacts the neighbors selected for making predictions. Common distance metrics include Euclidean, Manhattan, and Minkowski distances. If features are on different scales, one feature can disproportionately influence the distance calculation, leading to inaccurate predictions. Therefore, choosing the appropriate distance metric and ensuring proper feature scaling are important steps in the KNN process."
      ],
      "metadata": {
        "id": "cS8W4WLQyrWV"
      }
    },
    {
      "cell_type": "markdown",
      "source": [
        "What is the Curse of Dimensionality in KNN?"
      ],
      "metadata": {
        "id": "qAT3HS_Pytmx"
      }
    },
    {
      "cell_type": "markdown",
      "source": [
        "The Curse of Dimensionality refers to the various problems that arise when data has a large number of features or dimensions. In the context of KNN, as the number of dimensions increases, the distance between data points becomes less meaningful, and all points tend to appear equidistant from each other. This reduces the effectiveness of the distance metric and ultimately degrades the performance of KNN. Additionally, high-dimensional data often includes irrelevant or noisy features that can confuse the algorithm. Dimensionality reduction techniques like PCA are often used to mitigate this issue."
      ],
      "metadata": {
        "id": "Ejom5_J5yvG9"
      }
    },
    {
      "cell_type": "code",
      "source": [
        "How can we choose the best value of K in KNN?"
      ],
      "metadata": {
        "id": "xLNZeqKeywty"
      },
      "execution_count": null,
      "outputs": []
    },
    {
      "cell_type": "markdown",
      "source": [
        "Choosing the optimal value of K is essential for achieving good performance with the KNN algorithm. A small value of K can make the model sensitive to noise and outliers, leading to overfitting, while a large value can oversimplify the model and lead to underfitting. One common approach is to use cross-validation to test different values of K and evaluate their performance. Plotting the error rate versus different K values can help identify the best choice. In practice, values around the square root of the total number of samples are often used as a starting point."
      ],
      "metadata": {
        "id": "RdA2Xt_Gyy6s"
      }
    },
    {
      "cell_type": "markdown",
      "source": [
        "\n",
        "What are KD Tree and Ball Tree in KNN?"
      ],
      "metadata": {
        "id": "weKV16Lpy0VM"
      }
    },
    {
      "cell_type": "markdown",
      "source": [
        "KD Tree (K-Dimensional Tree) and Ball Tree are data structures used to improve the efficiency of the KNN algorithm. These structures organize the data in a way that allows for faster retrieval of the nearest neighbors compared to a brute-force approach. KD Tree is most effective for low-dimensional data and works by recursively splitting the data along the feature axes. Ball Tree, in contrast, is more suitable for higher-dimensional or complex datasets and uses hyperspheres to group data points. Both methods help reduce computation time and make KNN feasible for larger datasets."
      ],
      "metadata": {
        "id": "wbXDBNEwy6CD"
      }
    },
    {
      "cell_type": "markdown",
      "source": [
        "When should you use KD Tree vs. Ball Tree?"
      ],
      "metadata": {
        "id": "HqyppkXEy7uf"
      }
    },
    {
      "cell_type": "markdown",
      "source": [
        "The choice between KD Tree and Ball Tree depends on the dimensionality and distribution of the data. KD Tree is typically preferred for low-dimensional datasets (generally fewer than 20 dimensions), where it can efficiently partition the feature space using axis-aligned splits. However, KD Tree becomes inefficient as dimensionality increases. In such cases, Ball Tree performs better, especially when the data is high-dimensional or non-uniformly distributed. Ball Tree uses nested hyperspheres for partitioning, which can handle complex data structures more effectively."
      ],
      "metadata": {
        "id": "0oa1HhqWy9Tf"
      }
    },
    {
      "cell_type": "markdown",
      "source": [
        "What are the disadvantages of KNN?"
      ],
      "metadata": {
        "id": "wjeBVISOy_Ra"
      }
    },
    {
      "cell_type": "markdown",
      "source": [
        "While KNN is easy to understand and implement, it comes with several disadvantages. It can be computationally expensive, especially for large datasets, because it requires calculating the distance to every point during prediction. The algorithm also requires storing the entire training dataset, which increases memory usage. KNN is sensitive to noisy or irrelevant features and is affected by the curse of dimensionality. Additionally, predictions can be slow since the algorithm doesn't learn a model beforehand and computes everything at runtime."
      ],
      "metadata": {
        "id": "SvA2Gve7zArY"
      }
    },
    {
      "cell_type": "markdown",
      "source": [
        "How does feature scaling affect KNN?"
      ],
      "metadata": {
        "id": "iUIqG9V8zCBv"
      }
    },
    {
      "cell_type": "markdown",
      "source": [
        "Feature scaling significantly impacts the performance of KNN because the algorithm relies on distance calculations between data points. If one feature has a much larger range than others, it can dominate the distance metric, leading to biased predictions. To avoid this, features should be scaled so they contribute equally to the distance measure. Common techniques include Min-Max normalization and Standardization (Z-score normalization). Proper scaling ensures that the KNN model accurately identifies the nearest neighbors and performs well on the dataset."
      ],
      "metadata": {
        "id": "xQmSQhAOzEzt"
      }
    },
    {
      "cell_type": "markdown",
      "source": [
        "What is PCA (Principal Component Analysis)?"
      ],
      "metadata": {
        "id": "5f4Ynd1AzGkN"
      }
    },
    {
      "cell_type": "markdown",
      "source": [
        "Principal Component Analysis (PCA) is a statistical technique used for dimensionality reduction. It transforms a large set of features into a smaller set that still contains most of the information in the original dataset. PCA identifies directions, called principal components, where the data varies the most and projects the data onto these directions. This helps reduce complexity, improve model performance, and make visualization easier. PCA is particularly useful in dealing with high-dimensional data and the curse of dimensionality.\n"
      ],
      "metadata": {
        "id": "esXHds3fzI7s"
      }
    },
    {
      "cell_type": "markdown",
      "source": [
        "How does PCA work?"
      ],
      "metadata": {
        "id": "HhaHqngOzMXh"
      }
    },
    {
      "cell_type": "markdown",
      "source": [
        "PCA works by identifying the directions (principal components) in which the data varies the most and projecting the data onto these directions. First, the algorithm standardizes the data if necessary. Then, it computes the covariance matrix to understand how the variables relate to one another. The next step involves calculating the eigenvalues and eigenvectors of the covariance matrix, which reveal the directions and magnitude of maximum variance. Finally, the data is projected onto the top principal components (those with the largest eigenvalues), effectively reducing the dimensionality while retaining most of the original variance."
      ],
      "metadata": {
        "id": "ragRxokhzOqn"
      }
    },
    {
      "cell_type": "markdown",
      "source": [
        "What is the geometric intuition behind PCA?"
      ],
      "metadata": {
        "id": "3FE5Sy4bzQN6"
      }
    },
    {
      "cell_type": "markdown",
      "source": [
        "Geometrically, PCA can be seen as a rotation and projection of the data onto a new coordinate system. The new axes (principal components) are oriented in the directions where the data varies the most. The first principal component points in the direction of maximum variance, and each succeeding component captures the next highest variance while being orthogonal to the previous ones. By projecting the data onto these new axes, we can compress the data into fewer dimensions without losing significant information. This geometric transformation simplifies the structure of the data for analysis or visualization."
      ],
      "metadata": {
        "id": "AAtMa0rAzR7Q"
      }
    },
    {
      "cell_type": "markdown",
      "source": [
        "What is the difference between Feature Selection and Feature Extraction?"
      ],
      "metadata": {
        "id": "54yvTrFgzTqt"
      }
    },
    {
      "cell_type": "markdown",
      "source": [
        "Feature selection and feature extraction are both techniques for reducing the number of input variables in a model, but they operate differently. Feature selection involves choosing a subset of the original features that are most relevant to the task, often using statistical tests or model-based methods. In contrast, feature extraction transforms the original features into a new set of features through techniques like PCA, which combine and project data into fewer dimensions. While feature selection keeps the original feature space, feature extraction creates a new one, often making it more abstract and efficient."
      ],
      "metadata": {
        "id": "H5N1MpTizVEN"
      }
    },
    {
      "cell_type": "markdown",
      "source": [
        "What are Eigenvalues and Eigenvectors in PCA?"
      ],
      "metadata": {
        "id": "Iq3olKvizXmE"
      }
    },
    {
      "cell_type": "markdown",
      "source": [
        "Eigenvalues and eigenvectors are fundamental concepts in PCA. Eigenvectors represent the directions of the new feature space, known as principal components, while eigenvalues measure the magnitude of variance captured by each of those components. The larger the eigenvalue, the more information (variance) that component carries. PCA ranks components based on these eigenvalues and typically selects the top few with the highest values. Understanding these helps in interpreting how much of the original data’s variability is preserved when reducing dimensions."
      ],
      "metadata": {
        "id": "RHsPWAnozZAh"
      }
    },
    {
      "cell_type": "markdown",
      "source": [
        "How do you decide the number of components to keep in PCA?"
      ],
      "metadata": {
        "id": "Og14hbiEzaWT"
      }
    },
    {
      "cell_type": "markdown",
      "source": [
        "The number of components to retain in PCA is typically decided based on the cumulative explained variance. After computing eigenvalues, one can plot the cumulative variance explained by the components in a scree plot. By selecting the number of components that collectively explain a desired threshold (commonly 90–95%) of the total variance, one can reduce dimensionality while retaining most of the original data's information. This decision ensures that the dimensionality reduction is effective without losing significant patterns in the data."
      ],
      "metadata": {
        "id": "Iqo-hzeqzd2f"
      }
    },
    {
      "cell_type": "code",
      "source": [
        "Can PCA be used for classification?"
      ],
      "metadata": {
        "id": "FqM26l_lzfh-"
      },
      "execution_count": null,
      "outputs": []
    },
    {
      "cell_type": "markdown",
      "source": [
        "While PCA itself is not a classification algorithm, it can be used as a preprocessing step to improve classification performance. By reducing the number of input features, PCA can help classifiers work more efficiently and effectively, especially when dealing with high-dimensional data. PCA can also help remove noise and redundant information, which may improve model accuracy. However, since PCA transforms the original features, the resulting components may be harder to interpret. Therefore, PCA is often used when the focus is on performance rather than feature interpretability."
      ],
      "metadata": {
        "id": "2RsCCBcrzhOs"
      }
    },
    {
      "cell_type": "markdown",
      "source": [
        "What are the limitations of PCA?"
      ],
      "metadata": {
        "id": "5kxPCNp7ziou"
      }
    },
    {
      "cell_type": "markdown",
      "source": [
        "Despite its usefulness, PCA has several limitations. It assumes linear relationships among features and may not capture complex, nonlinear patterns in the data. PCA is also sensitive to scaling, so features must be standardized before applying the technique. The transformed components can be difficult to interpret, as they are combinations of original features. Additionally, PCA can sometimes discard features that may be important for a specific task, especially if they contribute less to overall variance but hold predictive power. It’s also not ideal for categorical data unless it's first encoded."
      ],
      "metadata": {
        "id": "7u7koriizkHh"
      }
    },
    {
      "cell_type": "markdown",
      "source": [
        "How do KNN and PCA complement each other?"
      ],
      "metadata": {
        "id": "jZ1NqehZzlvr"
      }
    },
    {
      "cell_type": "markdown",
      "source": [
        "KNN and PCA complement each other effectively, particularly when dealing with high-dimensional datasets. PCA helps reduce the number of features, thereby mitigating the curse of dimensionality, which can significantly impact KNN’s performance. With fewer dimensions, the distance calculations in KNN become more meaningful, and the model becomes more efficient and accurate. Additionally, using PCA as a preprocessing step before applying KNN can improve generalization by removing noise and redundant features. This combination often results in faster computation and better classification or regression outcomes."
      ],
      "metadata": {
        "id": "jJKvo0p3znTq"
      }
    },
    {
      "cell_type": "markdown",
      "source": [
        "How does KNN handle missing values in a dataset?"
      ],
      "metadata": {
        "id": "wvERfUmvzpHB"
      }
    },
    {
      "cell_type": "markdown",
      "source": [
        "KNN does not inherently handle missing values, as it relies on calculating distances between data points, which requires complete data. If missing values are present, they need to be addressed through preprocessing before applying KNN. One common approach is to impute missing values using the mean, median, or mode of the feature. Alternatively, KNN-based imputation can be used, where missing values are estimated using the values from the nearest neighbors. Regardless of the method, it is essential to handle missing data properly to avoid biased or inaccurate predictions."
      ],
      "metadata": {
        "id": "YtAe3XhEzqfY"
      }
    },
    {
      "cell_type": "markdown",
      "source": [
        "What are the key differences between PCA and Linear Discriminant Analysis"
      ],
      "metadata": {
        "id": "8xWSseRHztyN"
      }
    },
    {
      "cell_type": "markdown",
      "source": [
        "PCA and Linear Discriminant Analysis (LDA) are both dimensionality reduction techniques but have different objectives. PCA is an unsupervised method that focuses on preserving the maximum variance in the data without considering class labels. In contrast, LDA is supervised and aims to maximize the separation between different classes by considering label information. PCA creates components that best summarize the data, while LDA creates components that best discriminate between classes. Therefore, LDA is typically more suitable for classification tasks, whereas PCA is more general-purpose and can be used for both classification and visualization."
      ],
      "metadata": {
        "id": "KIgY6DAdzvSa"
      }
    },
    {
      "cell_type": "code",
      "source": [
        "from google.colab import drive\n",
        "drive.mount('/content/drive')"
      ],
      "metadata": {
        "colab": {
          "base_uri": "https://localhost:8080/"
        },
        "id": "pS_V2joK0AjG",
        "outputId": "ea16ecc3-86b5-40bb-b480-02ec3ad8b784"
      },
      "execution_count": null,
      "outputs": [
        {
          "output_type": "stream",
          "name": "stdout",
          "text": [
            "Mounted at /content/drive\n"
          ]
        }
      ]
    },
    {
      "cell_type": "markdown",
      "source": [
        "Train a KNN Regressor on a synthetic dataset and evaluate using Mean Squared Error (MSE)"
      ],
      "metadata": {
        "id": "ZWxRcPsw1hXk"
      }
    },
    {
      "cell_type": "code",
      "source": [
        "from sklearn.datasets import make_regression\n",
        "from sklearn.neighbors import KNeighborsRegressor\n",
        "from sklearn.metrics import mean_squared_error\n",
        "\n",
        "X, y = make_regression(n_samples=100, n_features=1, noise=10, random_state=42)\n",
        "X_train, X_test, y_train, y_test = train_test_split(X, y, test_size=0.2, random_state=42)\n",
        "\n",
        "reg = KNeighborsRegressor()\n",
        "reg.fit(X_train, y_train)\n",
        "y_pred = reg.predict(X_test)\n",
        "\n",
        "print(\"MSE:\", mean_squared_error(y_test, y_pred))\n"
      ],
      "metadata": {
        "colab": {
          "base_uri": "https://localhost:8080/"
        },
        "id": "C77MBY821kJs",
        "outputId": "b84fb41b-6bb9-4bda-9042-420b11667452"
      },
      "execution_count": null,
      "outputs": [
        {
          "output_type": "stream",
          "name": "stdout",
          "text": [
            "MSE: 108.14198878074414\n"
          ]
        }
      ]
    },
    {
      "cell_type": "markdown",
      "source": [
        "Train a PCA model on synthetic data and print the explained variance ratio for each component"
      ],
      "metadata": {
        "id": "SNSaLcLd5XOa"
      }
    },
    {
      "cell_type": "code",
      "source": [
        "from sklearn.decomposition import PCA\n",
        "from sklearn.datasets import make_classification\n",
        "\n",
        "# Create synthetic data\n",
        "X_syn, _ = make_classification(n_samples=100, n_features=5, random_state=42)\n",
        "\n",
        "# Fit PCA\n",
        "pca = PCA()\n",
        "pca.fit(X_syn)\n",
        "\n",
        "# Explained variance ratio\n",
        "print(\"Explained Variance Ratio for each component:\")\n",
        "print(pca.explained_variance_ratio_)\n"
      ],
      "metadata": {
        "colab": {
          "base_uri": "https://localhost:8080/"
        },
        "id": "uVOes9Qs5ORz",
        "outputId": "a8fbff04-d32a-4173-ae1b-dc43d690b873"
      },
      "execution_count": null,
      "outputs": [
        {
          "output_type": "stream",
          "name": "stdout",
          "text": [
            "Explained Variance Ratio for each component:\n",
            "[5.94674217e-01 2.54799657e-01 1.50526126e-01 1.25227371e-16\n",
            " 0.00000000e+00]\n"
          ]
        }
      ]
    },
    {
      "cell_type": "markdown",
      "source": [
        "Train a PCA model and visualize the cumulative explained variance"
      ],
      "metadata": {
        "id": "8WfVkDS65Ymc"
      }
    },
    {
      "cell_type": "code",
      "source": [
        "import matplotlib.pyplot as plt\n",
        "import numpy as np\n",
        "\n",
        "pca = PCA()\n",
        "pca.fit(X)\n",
        "\n",
        "plt.plot(np.cumsum(pca.explained_variance_ratio_))\n",
        "plt.xlabel('Number of Components')\n",
        "plt.ylabel('Cumulative Explained Variance')\n",
        "plt.title('Cumulative Explained Variance vs. Number of PCA Components')\n",
        "plt.grid(True)\n",
        "plt.show()"
      ],
      "metadata": {
        "colab": {
          "base_uri": "https://localhost:8080/",
          "height": 472
        },
        "id": "K6Lb2SKo5YFT",
        "outputId": "c3c5571d-a7f8-472f-c82b-a93f1236c5be"
      },
      "execution_count": null,
      "outputs": [
        {
          "output_type": "display_data",
          "data": {
            "text/plain": [
              "<Figure size 640x480 with 1 Axes>"
            ],
            "image/png": "[encoded data removed]"
          },
          "metadata": {}
        }
      ]
    },
    {
      "cell_type": "markdown",
      "source": [
        "Train a KNN Regressor and analyze the effect of different K values on performance"
      ],
      "metadata": {
        "id": "GlVCz5CI5yFW"
      }
    },
    {
      "cell_type": "code",
      "source": [
        "from sklearn.neighbors import KNeighborsRegressor\n",
        "from sklearn.datasets import make_regression\n",
        "from sklearn.metrics import mean_squared_error\n",
        "\n",
        "# Generate regression data\n",
        "X_reg, y_reg = make_regression(n_samples=100, n_features=5, noise=0.1, random_state=42)\n",
        "\n",
        "X_reg_train, X_reg_test, y_reg_train, y_reg_test = train_test_split(X_reg, y_reg, test_size=0.2, random_state=42)\n",
        "\n",
        "for k in [1, 3, 5, 7, 9]:\n",
        "    knn_reg = KNeighborsRegressor(n_neighbors=k)\n",
        "    knn_reg.fit(X_reg_train, y_reg_train)\n",
        "    y_pred = knn_reg.predict(X_reg_test)\n",
        "    mse = mean_squared_error(y_reg_test, y_pred)\n",
        "    print(f\"K={k}, MSE={mse:.4f}\")\n"
      ],
      "metadata": {
        "colab": {
          "base_uri": "https://localhost:8080/"
        },
        "id": "7JRu9AJ_5zpZ",
        "outputId": "2253b191-9aef-480b-bf96-65f6b5697a19"
      },
      "execution_count": null,
      "outputs": [
        {
          "output_type": "stream",
          "name": "stdout",
          "text": [
            "K=1, MSE=8118.6204\n",
            "K=3, MSE=6044.1160\n",
            "K=5, MSE=5730.6648\n",
            "K=7, MSE=4630.6152\n",
            "K=9, MSE=5628.6308\n"
          ]
        }
      ]
    },
    {
      "cell_type": "markdown",
      "source": [
        "Train a PCA model on a high-dimensional dataset and visualize the Scree plot"
      ],
      "metadata": {
        "id": "1l9bKtea6TPI"
      }
    },
    {
      "cell_type": "code",
      "source": [
        "# Generate high-dimensional synthetic data\n",
        "X_hd, _ = make_classification(n_samples=200, n_features=50, random_state=42)\n",
        "\n",
        "# Fit PCA\n",
        "pca_hd = PCA()\n",
        "pca_hd.fit(X_hd)\n",
        "\n",
        "# Scree plot\n",
        "plt.figure(figsize=(8, 5))\n",
        "plt.plot(range(1, len(pca_hd.explained_variance_ratio_)+1), pca_hd.explained_variance_ratio_, marker='o')\n",
        "plt.title('Scree Plot')\n",
        "plt.xlabel('Principal Component')\n",
        "plt.ylabel('Explained Variance Ratio')\n",
        "plt.grid(True)\n",
        "plt.show()"
      ],
      "metadata": {
        "colab": {
          "base_uri": "https://localhost:8080/",
          "height": 487
        },
        "id": "rKf4PCxp6Go7",
        "outputId": "5554320e-e644-4dfd-8d49-801a59f5d7e9"
      },
      "execution_count": null,
      "outputs": [
        {
          "output_type": "display_data",
          "data": {
            "text/plain": [
              "<Figure size 800x500 with 1 Axes>"
            ],
            "image/png": "[encoded data removed]"
          },
          "metadata": {}
        }
      ]
    },
    {
      "cell_type": "markdown",
      "source": [
        "Train a KNN Classifier on a real-world dataset (Wine dataset) and print classification report"
      ],
      "metadata": {
        "id": "r06G6cyB6j7d"
      }
    },
    {
      "cell_type": "code",
      "source": [
        "from sklearn.datasets import load_wine\n",
        "\n",
        "# Load Wine dataset\n",
        "wine = load_wine()\n",
        "X_wine = wine.data\n",
        "y_wine = wine.target\n",
        "\n",
        "# Train/test split\n",
        "Xw_train, Xw_test, yw_train, yw_test = train_test_split(X_wine, y_wine, test_size=0.3, random_state=42)\n",
        "\n",
        "# Train and evaluate\n",
        "knn = KNeighborsClassifier()\n",
        "knn.fit(Xw_train, yw_train)\n",
        "yw_pred = knn.predict(Xw_test)\n",
        "\n",
        "print(\"Classification Report on Wine Dataset:\")\n",
        "print(classification_report(yw_test, yw_pred))"
      ],
      "metadata": {
        "colab": {
          "base_uri": "https://localhost:8080/"
        },
        "id": "nkPkR83k6ZQF",
        "outputId": "4e556ddb-5f5a-49e9-964a-88d565b8f331"
      },
      "execution_count": null,
      "outputs": [
        {
          "output_type": "stream",
          "name": "stdout",
          "text": [
            "Classification Report on Wine Dataset:\n",
            "              precision    recall  f1-score   support\n",
            "\n",
            "           0       0.89      0.89      0.89        19\n",
            "           1       0.75      0.71      0.73        21\n",
            "           2       0.53      0.57      0.55        14\n",
            "\n",
            "    accuracy                           0.74        54\n",
            "   macro avg       0.73      0.73      0.73        54\n",
            "weighted avg       0.74      0.74      0.74        54\n",
            "\n"
          ]
        }
      ]
    },
    {
      "cell_type": "markdown",
      "source": [
        "Train a KNN Regressor and analyze the effect of different distance metrics on prediction error"
      ],
      "metadata": {
        "id": "58uJjs8y6l8y"
      }
    },
    {
      "cell_type": "code",
      "source": [
        "for metric in ['euclidean', 'manhattan']:\n",
        "    knn_reg = KNeighborsRegressor(metric=metric)\n",
        "    knn_reg.fit(X_reg_train, y_reg_train)\n",
        "    y_pred = knn_reg.predict(X_reg_test)\n",
        "    mse = mean_squared_error(y_reg_test, y_pred)\n",
        "    print(f\"Metric: {metric}, MSE: {mse:.4f}\")"
      ],
      "metadata": {
        "colab": {
          "base_uri": "https://localhost:8080/"
        },
        "id": "ugiiaoF16pWS",
        "outputId": "889a67a6-0fae-4813-e030-65ff0fbe11e4"
      },
      "execution_count": null,
      "outputs": [
        {
          "output_type": "stream",
          "name": "stdout",
          "text": [
            "Metric: euclidean, MSE: 5730.6648\n",
            "Metric: manhattan, MSE: 4999.0149\n"
          ]
        }
      ]
    },
    {
      "cell_type": "markdown",
      "source": [
        "Train a PCA model and visualize the variance captured by each principal component"
      ],
      "metadata": {
        "id": "-GjuM2Y76vyt"
      }
    },
    {
      "cell_type": "code",
      "source": [
        "pca = PCA()\n",
        "pca.fit(X)\n",
        "\n",
        "plt.figure(figsize=(8, 5))\n",
        "plt.bar(range(1, len(pca.explained_variance_ratio_)+1), pca.explained_variance_ratio_)\n",
        "plt.xlabel('Principal Component')\n",
        "plt.ylabel('Explained Variance Ratio')\n",
        "plt.title('Explained Variance by Each Principal Component')\n",
        "plt.grid(True)\n",
        "plt.show()\n",
        "\n"
      ],
      "metadata": {
        "colab": {
          "base_uri": "https://localhost:8080/",
          "height": 487
        },
        "id": "eCGYgoBy6rTD",
        "outputId": "8379ddfb-47cd-444e-f580-eb2e891854bb"
      },
      "execution_count": null,
      "outputs": [
        {
          "output_type": "display_data",
          "data": {
            "text/plain": [
              "<Figure size 800x500 with 1 Axes>"
            ],
            "image/png": "[encoded data removed]"
          },
          "metadata": {}
        }
      ]
    }
  ]
}